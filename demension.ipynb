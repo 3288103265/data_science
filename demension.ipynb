{
 "nbformat": 4,
 "nbformat_minor": 2,
 "metadata": {
  "language_info": {
   "name": "python",
   "codemirror_mode": {
    "name": "ipython",
    "version": 3
   },
   "version": "3.7.7-final"
  },
  "orig_nbformat": 2,
  "file_extension": ".py",
  "mimetype": "text/x-python",
  "name": "python",
  "npconvert_exporter": "python",
  "pygments_lexer": "ipython3",
  "version": 3,
  "kernelspec": {
   "name": "python37764bitanaconda3virtualenv96f802745a7b4a11b1f6dbcfd6a13be5",
   "display_name": "Python 3.7.7 64-bit ('anaconda3': virtualenv)"
  }
 },
 "cells": [
  {
   "cell_type": "code",
   "execution_count": 1,
   "metadata": {},
   "outputs": [
    {
     "output_type": "stream",
     "name": "stdout",
     "text": "--2020-04-17 15:01:30--  http://archive.ics.uci.edu/ml/machine-learning-databases/optdigits/optdigits-orig.cv.Z\nResolving archive.ics.uci.edu (archive.ics.uci.edu)...128.195.10.252\nConnecting to archive.ics.uci.edu (archive.ics.uci.edu)|128.195.10.252|:80...connected.\nHTTP request sent, awaiting response...200 OK\nLength: 72777 (71K) [application/x-httpd-php]\nSaving to: ‘optdigits-orig.cv.Z’\n\noptdigits-orig.cv.Z 100%[===================>]  71.07K  15.5KB/s    in 4.6s    \n\n2020-04-17 15:01:36 (15.5 KB/s) - ‘optdigits-orig.cv.Z’ saved [72777/72777]\n\n"
    }
   ],
   "source": [
    "!wget http://archive.ics.uci.edu/ml/machine-learning-databases/optdigits/optdigits-orig.cv.Z"
   ]
  },
  {
   "cell_type": "code",
   "execution_count": 2,
   "metadata": {},
   "outputs": [
    {
     "output_type": "stream",
     "name": "stdout",
     "text": "--2020-04-17 15:08:44--  http://archive.ics.uci.edu/ml/machine-learning-databases/optdigits/optdigits-orig.names\nResolving archive.ics.uci.edu (archive.ics.uci.edu)...128.195.10.252\nConnecting to archive.ics.uci.edu (archive.ics.uci.edu)|128.195.10.252|:80...connected.\nHTTP request sent, awaiting response...200 OK\nLength: 2388 (2.3K) [application/x-httpd-php]\nSaving to: ‘optdigits-orig.names’\n\noptdigits-orig.name 100%[===================>]   2.33K  --.-KB/s    in 0s      \n\n2020-04-17 15:08:46 (255 MB/s) - ‘optdigits-orig.names’ saved [2388/2388]\n\n--2020-04-17 15:08:47--  http://archive.ics.uci.edu/ml/machine-learning-databases/optdigits/optdigits-orig.tra.Z\nResolving archive.ics.uci.edu (archive.ics.uci.edu)...128.195.10.252\nConnecting to archive.ics.uci.edu (archive.ics.uci.edu)|128.195.10.252|:80...connected.\nHTTP request sent, awaiting response...200 OK\nLength: 145435 (142K) [application/x-httpd-php]\nSaving to: ‘optdigits-orig.tra.Z’\n\noptdigits-orig.tra. 100%[===================>] 142.03K  10.1KB/s    in 50s     \n\n2020-04-17 15:09:38 (2.82 KB/s) - ‘optdigits-orig.tra.Z’ saved [145435/145435]\n\n--2020-04-17 15:09:38--  http://archive.ics.uci.edu/ml/machine-learning-databases/optdigits/optdigits-orig.wdep.Z\nResolving archive.ics.uci.edu (archive.ics.uci.edu)...128.195.10.252\nConnecting to archive.ics.uci.edu (archive.ics.uci.edu)|128.195.10.252|:80...connected.\nHTTP request sent, awaiting response...200 OK\nLength: 72629 (71K) [application/x-httpd-php]\nSaving to: ‘optdigits-orig.wdep.Z’\n\noptdigits-orig.wdep 100%[===================>]  70.93K  14.2KB/s    in 5.0s    \n\n2020-04-17 15:09:45 (14.2 KB/s) - ‘optdigits-orig.wdep.Z’ saved [72629/72629]\n\n--2020-04-17 15:09:45--  http://archive.ics.uci.edu/ml/machine-learning-databases/optdigits/optdigits-orig.windep.Z\nResolving archive.ics.uci.edu (archive.ics.uci.edu)... 128.195.10.252\nConnecting to archive.ics.uci.edu (archive.ics.uci.edu)|128.195.10.252|:80...connected.\nHTTP request sent, awaiting response...200 OK\nLength: 135091 (132K) [application/x-httpd-php]\nSaving to: ‘optdigits-orig.windep.Z’\n\noptdigits-orig.wind 100%[===================>] 131.92K  7.64KB/s    in 13s     \n\n2020-04-17 15:09:59 (10.4 KB/s) - ‘optdigits-orig.windep.Z’ saved [135091/135091]\n\n"
    }
   ],
   "source": [
    "!wget http://archive.ics.uci.edu/ml/machine-learning-databases/optdigits/optdigits-orig.names\n",
    "!wget http://archive.ics.uci.edu/ml/machine-learning-databases/optdigits/optdigits-orig.tra.Z\n",
    "!wget http://archive.ics.uci.edu/ml/machine-learning-databases/optdigits/optdigits-orig.wdep.Z\n",
    "!wget http://archive.ics.uci.edu/ml/machine-learning-databases/optdigits/optdigits-orig.windep.Z\n",
    ""
   ]
  },
  {
   "cell_type": "code",
   "execution_count": 6,
   "metadata": {},
   "outputs": [],
   "source": [
    "!uncompress optdigits-orig.windep.Z"
   ]
  },
  {
   "cell_type": "code",
   "execution_count": 8,
   "metadata": {},
   "outputs": [],
   "source": [
    "from time import time \n",
    "import matplotlib.pyplot as plt\n",
    "import numpy as np \n",
    "from matplotlib import offsetbox\n",
    "from sklearn import (manifold, datasets, decomposition, ensemble, discriminant_analysis, random_projection)"
   ]
  },
  {
   "cell_type": "code",
   "execution_count": 11,
   "metadata": {},
   "outputs": [],
   "source": [
    "digits = datasets.load_digits(n_class=6)\n",
    "X = digits.data\n",
    "y = digits.target\n"
   ]
  },
  {
   "cell_type": "code",
   "execution_count": 10,
   "metadata": {},
   "outputs": [
    {
     "output_type": "stream",
     "name": "stdout",
     "text": "[[ 0.  0.  5. ...  0.  0.  0.]\n [ 0.  0.  0. ... 10.  0.  0.]\n [ 0.  0.  0. ... 16.  9.  0.]\n ...\n [ 0.  0.  0. ...  9.  0.  0.]\n [ 0.  0.  0. ...  4.  0.  0.]\n [ 0.  0.  6. ...  6.  0.  0.]]\n[0 1 2 3 4 0 1 2 3 4 0 1 2 3 4 0 0 4 1 3 1 0 0 2 2 2 0 1 2 3 3 3 3 4 4 1 0\n 2 2 0 0 1 3 2 1 4 3 1 3 1 4 3 1 4 0 3 1 4 4 2 2 2 4 4 0 0 1 2 3 4 0 1 2 3\n 4 0 1 2 3 4 0 0 4 1 3 1 0 0 2 2 2 0 1 2 3 3 3 3 4 4 1 0 2 2 0 0 1 3 2 1 3\n 1 3 1 4 3 1 4 0 3 1 4 4 2 2 2 4 4 0 0 1 2 3 4 0 1 2 3 4 0 1 2 3 4 0 0 4 1\n 3 1 0 0 2 2 2 0 1 2 3 3 3 3 4 4 1 0 2 2 0 0 1 3 2 1 4 3 1 3 1 4 3 1 4 0 3\n 1 4 4 2 2 2 4 4 0 3 0 1 2 3 4 0 1 2 3 4 0 1 2 3 4 0 0 4 1 3 1 0 0 2 2 2 0\n 1 2 3 3 3 3 4 4 1 0 2 2 0 0 1 3 2 1 4 3 1 3 1 4 3 1 4 0 3 1 4 4 2 2 2 4 4\n 0 0 1 2 3 4 0 1 2 3 4 0 1 2 3 4 0 0 4 1 3 1 0 0 2 2 2 0 1 2 3 3 3 3 4 4 1\n 0 2 2 0 0 1 3 2 1 4 3 1 3 1 4 3 1 4 0 3 1 4 4 2 2 2 4 4 0 0 1 2 3 4 0 1 2\n 3 4 0 1 2 3 4 0 0 4 1 3 1 0 0 2 2 2 0 1 2 3 3 3 3 4 4 1 0 2 2 0 0 1 3 2 1\n 4 3 1 3 1 4 3 1 4 0 3 1 4 4 2 2 2 4 4 0 0 1 2 3 4 0 1 2 3 4 0 1 2 3 4 0 0\n 4 1 3 1 0 0 2 2 2 0 1 2 3 3 3 3 4 4 1 0 2 2 0 0 1 3 2 1 4 3 1 3 1 4 3 1 4\n 0 3 1 4 4 2 2 2 4 4 0 1 2 3 4 0 1 2 3 4 0 1 2 3 4 0 0 4 1 3 1 2 2 0 1 2 3\n 3 3 3 4 4 1 0 2 2 0 0 1 3 2 1 4 3 1 3 1 4 3 1 4 0 3 1 4 4 2 2 2 4 4 0 0 1\n 2 3 4 0 1 2 3 4 0 1 2 3 4 0 0 4 1 3 1 0 0 2 0 1 2 3 3 3 3 4 4 1 0 2 2 0 0\n 1 3 2 1 4 3 1 3 1 4 3 1 4 0 3 1 4 4 2 2 2 4 4 0 0 1 2 3 4 0 1 2 3 4 0 1 2\n 3 4 0 0 4 1 3 1 0 0 2 2 2 0 1 2 3 3 3 3 4 4 1 0 2 2 0 0 1 3 2 1 4 3 1 3 1\n 4 3 1 4 0 3 1 4 4 2 2 2 4 4 0 0 1 2 3 4 0 1 2 3 4 0 1 2 3 4 0 0 4 1 3 1 0\n 0 2 2 2 0 1 2 3 3 3 3 4 4 1 0 2 2 0 0 1 3 2 1 4 3 1 3 1 4 3 1 4 0 3 1 4 4\n 2 2 2 4 4 0 0 1 2 3 4 0 1 2 3 4 0 1 2 3 4 0 0 4 1 3 1 0 0 2 2 2 0 1 2 3 3\n 3 3 4 4 1 0 2 2 0 0 1 3 2 1 4 3 1 3 1 4 3 1 4 0 3 1 4 4 2 2 2 4 4 0 0 1 2\n 3 4 0 1 2 3 4 0 1 2 3 4 0 0 4 1 3 1 0 0 2 2 2 0 1 2 3 3 3 3 4 4 1 0 2 0 1\n 3 2 1 4 3 1 3 1 4 3 1 4 0 3 1 4 4 2 2 4 4 0 0 1 2 3 4 0 1 2 3 4 0 1 2 3 4\n 0 0 4 1 3 1 0 0 2 2 2 0 1 2 3 3 3 3 4 4 1 0 2 2 0 0 1 3 2 1 4 3 1 3 1 4 3\n 1 4 0 3 1 4 4 2 2 2 4 4 0]\n"
    }
   ],
   "source": [
    "print(digits.data)\n",
    "print(digits.target)"
   ]
  },
  {
   "cell_type": "code",
   "execution_count": null,
   "metadata": {},
   "outputs": [],
   "source": [
    "data, target = dataset.load_digits(n_class=6, )"
   ]
  }
 ]
}