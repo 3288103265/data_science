{
 "cells": [
  {
   "cell_type": "code",
   "execution_count": 1,
   "metadata": {},
   "outputs": [],
   "source": [
    "import warnings\n",
    "import pandas as pd\n",
    "import numpy as np\n",
    "import lightgbm as lgb\n",
    "from matplotlib import pyplot as plt\n",
    "from statsmodels.tsa.holtwinters import ExponentialSmoothing\n",
    "from statsmodels.tsa.ar_model import AR\n",
    "from sklearn.model_selection import KFold,train_test_split\n",
    "from sklearn.metrics import mean_squared_error\n",
    "warnings.filterwarnings('ignore')\n"
   ]
  },
  {
   "cell_type": "code",
   "execution_count": 2,
   "metadata": {},
   "outputs": [
    {
     "output_type": "stream",
     "name": "stdout",
     "text": "df columns: Index(['Unnamed: 0', 'area_id', 'hour', 'r_in', 'r_out', 'r_self', 'r_all'], dtype='object')\n"
    },
    {
     "output_type": "execute_result",
     "data": {
      "text/plain": "   Unnamed: 0  area_id  hour   r_in  r_out  r_self   r_all\n0           0        0   0.0  353.5  312.9  3637.9  4304.3\n1           1        1   0.0    0.4    0.4     0.0     0.8\n2           2        2   0.0    0.8    1.2     0.0     2.0\n3           3        3   0.0    0.0    0.0     0.0     0.0\n4           4        4   0.0    0.0    0.0     0.0     0.0\n5           5        5   0.0    0.0    0.0     0.0     0.0\n6           6        6   0.0    0.0    0.0     0.0     0.0\n7           7        7   0.0    0.1    0.0     0.0     0.1\n8           8        8   0.0    0.1    0.1     0.0     0.2\n9           9        9   0.0    0.5    0.5     0.0     1.0",
      "text/html": "<div>\n<style scoped>\n    .dataframe tbody tr th:only-of-type {\n        vertical-align: middle;\n    }\n\n    .dataframe tbody tr th {\n        vertical-align: top;\n    }\n\n    .dataframe thead th {\n        text-align: right;\n    }\n</style>\n<table border=\"1\" class=\"dataframe\">\n  <thead>\n    <tr style=\"text-align: right;\">\n      <th></th>\n      <th>Unnamed: 0</th>\n      <th>area_id</th>\n      <th>hour</th>\n      <th>r_in</th>\n      <th>r_out</th>\n      <th>r_self</th>\n      <th>r_all</th>\n    </tr>\n  </thead>\n  <tbody>\n    <tr>\n      <th>0</th>\n      <td>0</td>\n      <td>0</td>\n      <td>0.0</td>\n      <td>353.5</td>\n      <td>312.9</td>\n      <td>3637.9</td>\n      <td>4304.3</td>\n    </tr>\n    <tr>\n      <th>1</th>\n      <td>1</td>\n      <td>1</td>\n      <td>0.0</td>\n      <td>0.4</td>\n      <td>0.4</td>\n      <td>0.0</td>\n      <td>0.8</td>\n    </tr>\n    <tr>\n      <th>2</th>\n      <td>2</td>\n      <td>2</td>\n      <td>0.0</td>\n      <td>0.8</td>\n      <td>1.2</td>\n      <td>0.0</td>\n      <td>2.0</td>\n    </tr>\n    <tr>\n      <th>3</th>\n      <td>3</td>\n      <td>3</td>\n      <td>0.0</td>\n      <td>0.0</td>\n      <td>0.0</td>\n      <td>0.0</td>\n      <td>0.0</td>\n    </tr>\n    <tr>\n      <th>4</th>\n      <td>4</td>\n      <td>4</td>\n      <td>0.0</td>\n      <td>0.0</td>\n      <td>0.0</td>\n      <td>0.0</td>\n      <td>0.0</td>\n    </tr>\n    <tr>\n      <th>5</th>\n      <td>5</td>\n      <td>5</td>\n      <td>0.0</td>\n      <td>0.0</td>\n      <td>0.0</td>\n      <td>0.0</td>\n      <td>0.0</td>\n    </tr>\n    <tr>\n      <th>6</th>\n      <td>6</td>\n      <td>6</td>\n      <td>0.0</td>\n      <td>0.0</td>\n      <td>0.0</td>\n      <td>0.0</td>\n      <td>0.0</td>\n    </tr>\n    <tr>\n      <th>7</th>\n      <td>7</td>\n      <td>7</td>\n      <td>0.0</td>\n      <td>0.1</td>\n      <td>0.0</td>\n      <td>0.0</td>\n      <td>0.1</td>\n    </tr>\n    <tr>\n      <th>8</th>\n      <td>8</td>\n      <td>8</td>\n      <td>0.0</td>\n      <td>0.1</td>\n      <td>0.1</td>\n      <td>0.0</td>\n      <td>0.2</td>\n    </tr>\n    <tr>\n      <th>9</th>\n      <td>9</td>\n      <td>9</td>\n      <td>0.0</td>\n      <td>0.5</td>\n      <td>0.5</td>\n      <td>0.0</td>\n      <td>1.0</td>\n    </tr>\n  </tbody>\n</table>\n</div>"
     },
     "metadata": {},
     "execution_count": 2
    }
   ],
   "source": [
    "df1=pd.read_csv('area_passenger_index.csv',header=None\n",
    "                ,names=['ID','time','people_index'])\n",
    "df2=pd.read_csv('area_passenger_info.csv',header=None\n",
    "                ,names=['ID','area_name','area_type','Center_x','Center_y','Grid_x','Grid_y','area'])\n",
    "df3=pd.read_csv('migration_index.csv',header=None\n",
    "            ,names=['date','departure_province','departure_city','arrival_province','arrival_city','index'])\n",
    "df4=pd.read_csv('datafountain_competition_od.txt',sep='\\t',header=None\n",
    "                ,names=['hour','start_grid_x','start_grid_y','end_grid_x','end_grid_y','Index'])\n",
    "\n",
    "df5 = pd.read_csv('area_relation2.csv')  #\n",
    "print(\"df columns:\",df5.columns)\n",
    "sub=pd.read_csv('test_submit_example.csv',header=None\n",
    "                ,names=['ID','time','people_index'])\n",
    "df5.head(10)"
   ]
  },
  {
   "cell_type": "code",
   "execution_count": 3,
   "metadata": {},
   "outputs": [],
   "source": [
    "df1['time']=pd.to_datetime(df1['time'],format='%Y%m%d%H')\n",
    "df1['day']=df1['time'].dt.day.apply(lambda x:x-17 if x>=17 else x+14)\n",
    "df1['weekday']=df1['time'].dt.weekday\n",
    "df1['hour']=df1['time'].dt.hour"
   ]
  },
  {
   "cell_type": "code",
   "execution_count": 4,
   "metadata": {},
   "outputs": [],
   "source": [
    "dict_wd=dict(df1.groupby(['weekday']).mean()['people_index'])\n",
    "dict_h=dict(df1.groupby(['hour']).mean()['people_index'])\n",
    "dict_id=dict(df1.groupby(['ID']).mean()['people_index'])"
   ]
  },
  {
   "cell_type": "code",
   "execution_count": 5,
   "metadata": {},
   "outputs": [],
   "source": [
    "df1['weekday_encoded']=df1['weekday'].map(dict_wd)\n",
    "df1['hour_encoded']=df1['hour'].map(dict_h)\n",
    "df1['ID_encoded']=df1['ID'].map(dict_id)"
   ]
  },
  {
   "cell_type": "markdown",
   "metadata": {},
   "source": [
    "# add realtion"
   ]
  },
  {
   "cell_type": "code",
   "execution_count": 6,
   "metadata": {},
   "outputs": [],
   "source": [
    "df5 = df5[['area_id','hour','r_in','r_out','r_self','r_all']]\n",
    "df5_values = df5.values\n",
    "relation_encoder = {}\n",
    "for m in df5_values:\n",
    "    relation_encoder[(m[0],m[1])] = [m[2],m[3],m[4],m[5]]\n",
    "    \n",
    "df1_id_h = df1[['ID','hour']].values\n",
    "mm = []\n",
    "for x in df1_id_h:\n",
    "    mm.append(relation_encoder[(x[0],x[1])])\n",
    "mm = np.array(mm).T\n",
    "df1['r_in'] = pd.DataFrame(mm[0])\n",
    "df1['r_out'] = pd.DataFrame(mm[1])\n",
    "df1['r_self'] = pd.DataFrame(mm[2])\n",
    "df1['r_all'] = pd.DataFrame(mm[3])"
   ]
  },
  {
   "cell_type": "code",
   "execution_count": 7,
   "metadata": {},
   "outputs": [
    {
     "output_type": "execute_result",
     "data": {
      "text/plain": "   ID                time  people_index  day  weekday  hour  weekday_encoded  \\\n0   1 2020-01-17 00:00:00           1.8    0        4     0        28.266556   \n1   1 2020-01-17 01:00:00           1.5    0        4     1        28.266556   \n2   1 2020-01-17 02:00:00           1.3    0        4     2        28.266556   \n3   1 2020-01-17 03:00:00           1.3    0        4     3        28.266556   \n4   1 2020-01-17 04:00:00           1.7    0        4     4        28.266556   \n5   1 2020-01-17 05:00:00           1.2    0        4     5        28.266556   \n6   1 2020-01-17 06:00:00           2.9    0        4     6        28.266556   \n7   1 2020-01-17 07:00:00           4.7    0        4     7        28.266556   \n8   1 2020-01-17 08:00:00           6.1    0        4     8        28.266556   \n9   1 2020-01-17 09:00:00           5.2    0        4     9        28.266556   \n\n   hour_encoded  ID_encoded  r_in  r_out  r_self  r_all  \n0     12.499074    4.835556   0.4    0.4     0.0    0.8  \n1      8.617108    4.835556   0.8    0.2     0.0    1.0  \n2      7.245714    4.835556   0.1    0.2     0.0    0.3  \n3      6.373882    4.835556   0.3    0.7     0.0    1.0  \n4      6.205978    4.835556   0.8    0.7     0.0    1.5  \n5      7.780906    4.835556   1.0    1.1     0.0    2.1  \n6     13.849278    4.835556   2.3    4.2     0.0    6.5  \n7     22.833651    4.835556   4.5    7.6     0.0   12.1  \n8     31.165440    4.835556   3.1    7.7     0.0   10.8  \n9     35.761210    4.835556   3.5    3.8     0.0    7.3  ",
      "text/html": "<div>\n<style scoped>\n    .dataframe tbody tr th:only-of-type {\n        vertical-align: middle;\n    }\n\n    .dataframe tbody tr th {\n        vertical-align: top;\n    }\n\n    .dataframe thead th {\n        text-align: right;\n    }\n</style>\n<table border=\"1\" class=\"dataframe\">\n  <thead>\n    <tr style=\"text-align: right;\">\n      <th></th>\n      <th>ID</th>\n      <th>time</th>\n      <th>people_index</th>\n      <th>day</th>\n      <th>weekday</th>\n      <th>hour</th>\n      <th>weekday_encoded</th>\n      <th>hour_encoded</th>\n      <th>ID_encoded</th>\n      <th>r_in</th>\n      <th>r_out</th>\n      <th>r_self</th>\n      <th>r_all</th>\n    </tr>\n  </thead>\n  <tbody>\n    <tr>\n      <th>0</th>\n      <td>1</td>\n      <td>2020-01-17 00:00:00</td>\n      <td>1.8</td>\n      <td>0</td>\n      <td>4</td>\n      <td>0</td>\n      <td>28.266556</td>\n      <td>12.499074</td>\n      <td>4.835556</td>\n      <td>0.4</td>\n      <td>0.4</td>\n      <td>0.0</td>\n      <td>0.8</td>\n    </tr>\n    <tr>\n      <th>1</th>\n      <td>1</td>\n      <td>2020-01-17 01:00:00</td>\n      <td>1.5</td>\n      <td>0</td>\n      <td>4</td>\n      <td>1</td>\n      <td>28.266556</td>\n      <td>8.617108</td>\n      <td>4.835556</td>\n      <td>0.8</td>\n      <td>0.2</td>\n      <td>0.0</td>\n      <td>1.0</td>\n    </tr>\n    <tr>\n      <th>2</th>\n      <td>1</td>\n      <td>2020-01-17 02:00:00</td>\n      <td>1.3</td>\n      <td>0</td>\n      <td>4</td>\n      <td>2</td>\n      <td>28.266556</td>\n      <td>7.245714</td>\n      <td>4.835556</td>\n      <td>0.1</td>\n      <td>0.2</td>\n      <td>0.0</td>\n      <td>0.3</td>\n    </tr>\n    <tr>\n      <th>3</th>\n      <td>1</td>\n      <td>2020-01-17 03:00:00</td>\n      <td>1.3</td>\n      <td>0</td>\n      <td>4</td>\n      <td>3</td>\n      <td>28.266556</td>\n      <td>6.373882</td>\n      <td>4.835556</td>\n      <td>0.3</td>\n      <td>0.7</td>\n      <td>0.0</td>\n      <td>1.0</td>\n    </tr>\n    <tr>\n      <th>4</th>\n      <td>1</td>\n      <td>2020-01-17 04:00:00</td>\n      <td>1.7</td>\n      <td>0</td>\n      <td>4</td>\n      <td>4</td>\n      <td>28.266556</td>\n      <td>6.205978</td>\n      <td>4.835556</td>\n      <td>0.8</td>\n      <td>0.7</td>\n      <td>0.0</td>\n      <td>1.5</td>\n    </tr>\n    <tr>\n      <th>5</th>\n      <td>1</td>\n      <td>2020-01-17 05:00:00</td>\n      <td>1.2</td>\n      <td>0</td>\n      <td>4</td>\n      <td>5</td>\n      <td>28.266556</td>\n      <td>7.780906</td>\n      <td>4.835556</td>\n      <td>1.0</td>\n      <td>1.1</td>\n      <td>0.0</td>\n      <td>2.1</td>\n    </tr>\n    <tr>\n      <th>6</th>\n      <td>1</td>\n      <td>2020-01-17 06:00:00</td>\n      <td>2.9</td>\n      <td>0</td>\n      <td>4</td>\n      <td>6</td>\n      <td>28.266556</td>\n      <td>13.849278</td>\n      <td>4.835556</td>\n      <td>2.3</td>\n      <td>4.2</td>\n      <td>0.0</td>\n      <td>6.5</td>\n    </tr>\n    <tr>\n      <th>7</th>\n      <td>1</td>\n      <td>2020-01-17 07:00:00</td>\n      <td>4.7</td>\n      <td>0</td>\n      <td>4</td>\n      <td>7</td>\n      <td>28.266556</td>\n      <td>22.833651</td>\n      <td>4.835556</td>\n      <td>4.5</td>\n      <td>7.6</td>\n      <td>0.0</td>\n      <td>12.1</td>\n    </tr>\n    <tr>\n      <th>8</th>\n      <td>1</td>\n      <td>2020-01-17 08:00:00</td>\n      <td>6.1</td>\n      <td>0</td>\n      <td>4</td>\n      <td>8</td>\n      <td>28.266556</td>\n      <td>31.165440</td>\n      <td>4.835556</td>\n      <td>3.1</td>\n      <td>7.7</td>\n      <td>0.0</td>\n      <td>10.8</td>\n    </tr>\n    <tr>\n      <th>9</th>\n      <td>1</td>\n      <td>2020-01-17 09:00:00</td>\n      <td>5.2</td>\n      <td>0</td>\n      <td>4</td>\n      <td>9</td>\n      <td>28.266556</td>\n      <td>35.761210</td>\n      <td>4.835556</td>\n      <td>3.5</td>\n      <td>3.8</td>\n      <td>0.0</td>\n      <td>7.3</td>\n    </tr>\n  </tbody>\n</table>\n</div>"
     },
     "metadata": {},
     "execution_count": 7
    }
   ],
   "source": [
    "df1.head(10)"
   ]
  },
  {
   "cell_type": "markdown",
   "metadata": {},
   "source": [
    "# add"
   ]
  },
  {
   "cell_type": "code",
   "execution_count": 8,
   "metadata": {},
   "outputs": [],
   "source": [
    "# #  add by zhangyang ######\n",
    "dict_wd1=dict(df1.groupby(['weekday']).median()['people_index'])\n",
    "dict_h1=dict(df1.groupby(['hour']).median()['people_index'])\n",
    "dict_id1=dict(df1.groupby(['ID']).median()['people_index'])\n",
    "df1['weekday_encoded1']=df1['weekday'].map(dict_wd1)\n",
    "df1['hour_encoded1']=df1['hour'].map(dict_h1)\n",
    "df1['ID_encoded1']=df1['ID'].map(dict_id1)"
   ]
  },
  {
   "cell_type": "code",
   "execution_count": 9,
   "metadata": {},
   "outputs": [],
   "source": [
    "pd.set_option('display.width',None)"
   ]
  },
  {
   "cell_type": "code",
   "execution_count": 10,
   "metadata": {},
   "outputs": [],
   "source": [
    "train_data=df1.copy()"
   ]
  },
  {
   "cell_type": "code",
   "execution_count": 11,
   "metadata": {},
   "outputs": [],
   "source": [
    "train_data=pd.merge(df1,df2,on=['ID'])"
   ]
  },
  {
   "cell_type": "code",
   "execution_count": 12,
   "metadata": {},
   "outputs": [],
   "source": [
    "dict_at=dict(train_data.groupby(['area_type']).mean()['people_index'])"
   ]
  },
  {
   "cell_type": "code",
   "execution_count": 13,
   "metadata": {},
   "outputs": [],
   "source": [
    "train_data['area_type_encoded']=train_data['area_type'].map(dict_at)"
   ]
  },
  {
   "cell_type": "markdown",
   "metadata": {},
   "source": [
    "# add"
   ]
  },
  {
   "cell_type": "code",
   "execution_count": 14,
   "metadata": {},
   "outputs": [],
   "source": [
    "# add by zhangyang #########\n",
    "dict_at1=dict(train_data.groupby(['area_type']).median()['people_index'])\n",
    "train_data['area_type_encoded1']=train_data['area_type'].map(dict_at1)"
   ]
  },
  {
   "cell_type": "code",
   "execution_count": 15,
   "metadata": {},
   "outputs": [
    {
     "output_type": "execute_result",
     "data": {
      "text/plain": "   ID                time  people_index  day  weekday  hour  weekday_encoded  \\\n0   1 2020-01-17 00:00:00           1.8    0        4     0        28.266556   \n1   1 2020-01-17 01:00:00           1.5    0        4     1        28.266556   \n2   1 2020-01-17 02:00:00           1.3    0        4     2        28.266556   \n3   1 2020-01-17 03:00:00           1.3    0        4     3        28.266556   \n4   1 2020-01-17 04:00:00           1.7    0        4     4        28.266556   \n\n   hour_encoded  ID_encoded  r_in  ...  weekday_encoded1  hour_encoded1  \\\n0     12.499074    4.835556   0.4  ...               6.5            3.8   \n1      8.617108    4.835556   0.8  ...               6.5            2.6   \n2      7.245714    4.835556   0.1  ...               6.5            2.1   \n3      6.373882    4.835556   0.3  ...               6.5            1.8   \n4      6.205978    4.835556   0.8  ...               6.5            1.7   \n\n   ID_encoded1    Center_x   Center_y      Grid_x     Grid_y           area  \\\n0          4.1  116.256586  39.986913  116.256713  39.987525  395925.609375   \n1          4.1  116.256586  39.986913  116.256713  39.987525  395925.609375   \n2          4.1  116.256586  39.986913  116.256713  39.987525  395925.609375   \n3          4.1  116.256586  39.986913  116.256713  39.987525  395925.609375   \n4          4.1  116.256586  39.986913  116.256713  39.987525  395925.609375   \n\n   area_type_encoded  area_type_encoded1  \n0          10.071021                 3.4  \n1          10.071021                 3.4  \n2          10.071021                 3.4  \n3          10.071021                 3.4  \n4          10.071021                 3.4  \n\n[5 rows x 23 columns]",
      "text/html": "<div>\n<style scoped>\n    .dataframe tbody tr th:only-of-type {\n        vertical-align: middle;\n    }\n\n    .dataframe tbody tr th {\n        vertical-align: top;\n    }\n\n    .dataframe thead th {\n        text-align: right;\n    }\n</style>\n<table border=\"1\" class=\"dataframe\">\n  <thead>\n    <tr style=\"text-align: right;\">\n      <th></th>\n      <th>ID</th>\n      <th>time</th>\n      <th>people_index</th>\n      <th>day</th>\n      <th>weekday</th>\n      <th>hour</th>\n      <th>weekday_encoded</th>\n      <th>hour_encoded</th>\n      <th>ID_encoded</th>\n      <th>r_in</th>\n      <th>...</th>\n      <th>weekday_encoded1</th>\n      <th>hour_encoded1</th>\n      <th>ID_encoded1</th>\n      <th>Center_x</th>\n      <th>Center_y</th>\n      <th>Grid_x</th>\n      <th>Grid_y</th>\n      <th>area</th>\n      <th>area_type_encoded</th>\n      <th>area_type_encoded1</th>\n    </tr>\n  </thead>\n  <tbody>\n    <tr>\n      <th>0</th>\n      <td>1</td>\n      <td>2020-01-17 00:00:00</td>\n      <td>1.8</td>\n      <td>0</td>\n      <td>4</td>\n      <td>0</td>\n      <td>28.266556</td>\n      <td>12.499074</td>\n      <td>4.835556</td>\n      <td>0.4</td>\n      <td>...</td>\n      <td>6.5</td>\n      <td>3.8</td>\n      <td>4.1</td>\n      <td>116.256586</td>\n      <td>39.986913</td>\n      <td>116.256713</td>\n      <td>39.987525</td>\n      <td>395925.609375</td>\n      <td>10.071021</td>\n      <td>3.4</td>\n    </tr>\n    <tr>\n      <th>1</th>\n      <td>1</td>\n      <td>2020-01-17 01:00:00</td>\n      <td>1.5</td>\n      <td>0</td>\n      <td>4</td>\n      <td>1</td>\n      <td>28.266556</td>\n      <td>8.617108</td>\n      <td>4.835556</td>\n      <td>0.8</td>\n      <td>...</td>\n      <td>6.5</td>\n      <td>2.6</td>\n      <td>4.1</td>\n      <td>116.256586</td>\n      <td>39.986913</td>\n      <td>116.256713</td>\n      <td>39.987525</td>\n      <td>395925.609375</td>\n      <td>10.071021</td>\n      <td>3.4</td>\n    </tr>\n    <tr>\n      <th>2</th>\n      <td>1</td>\n      <td>2020-01-17 02:00:00</td>\n      <td>1.3</td>\n      <td>0</td>\n      <td>4</td>\n      <td>2</td>\n      <td>28.266556</td>\n      <td>7.245714</td>\n      <td>4.835556</td>\n      <td>0.1</td>\n      <td>...</td>\n      <td>6.5</td>\n      <td>2.1</td>\n      <td>4.1</td>\n      <td>116.256586</td>\n      <td>39.986913</td>\n      <td>116.256713</td>\n      <td>39.987525</td>\n      <td>395925.609375</td>\n      <td>10.071021</td>\n      <td>3.4</td>\n    </tr>\n    <tr>\n      <th>3</th>\n      <td>1</td>\n      <td>2020-01-17 03:00:00</td>\n      <td>1.3</td>\n      <td>0</td>\n      <td>4</td>\n      <td>3</td>\n      <td>28.266556</td>\n      <td>6.373882</td>\n      <td>4.835556</td>\n      <td>0.3</td>\n      <td>...</td>\n      <td>6.5</td>\n      <td>1.8</td>\n      <td>4.1</td>\n      <td>116.256586</td>\n      <td>39.986913</td>\n      <td>116.256713</td>\n      <td>39.987525</td>\n      <td>395925.609375</td>\n      <td>10.071021</td>\n      <td>3.4</td>\n    </tr>\n    <tr>\n      <th>4</th>\n      <td>1</td>\n      <td>2020-01-17 04:00:00</td>\n      <td>1.7</td>\n      <td>0</td>\n      <td>4</td>\n      <td>4</td>\n      <td>28.266556</td>\n      <td>6.205978</td>\n      <td>4.835556</td>\n      <td>0.8</td>\n      <td>...</td>\n      <td>6.5</td>\n      <td>1.7</td>\n      <td>4.1</td>\n      <td>116.256586</td>\n      <td>39.986913</td>\n      <td>116.256713</td>\n      <td>39.987525</td>\n      <td>395925.609375</td>\n      <td>10.071021</td>\n      <td>3.4</td>\n    </tr>\n  </tbody>\n</table>\n<p>5 rows × 23 columns</p>\n</div>"
     },
     "metadata": {},
     "execution_count": 15
    }
   ],
   "source": [
    "train_data.drop(['area_name','area_type'],axis=1,inplace=True)\n",
    "train_data.head()"
   ]
  },
  {
   "cell_type": "code",
   "execution_count": 16,
   "metadata": {},
   "outputs": [],
   "source": [
    "df3['date']=pd.to_datetime(df3['date'],format='%Y%m%d')\n",
    "df3['day_encode']=df3['date'].dt.day.apply(lambda x:x-17 if x>=17 else x+14)\n",
    "df3['city']=df3['arrival_city'].apply(lambda x:1 if x=='北京市' else 0)\n",
    "\n",
    "inbj=df3[df3['city']==1]\n",
    "outbj=df3[df3['city']==0]\n",
    "index_mean_in=inbj.groupby(['date']).mean()['index']\n",
    "index_std_in=inbj.groupby(['date']).std()['index']\n",
    "index_mean_in_copy=index_mean_in.copy()\n",
    "index_mean_in_copy.index=np.arange(30)\n",
    "dict4=dict(index_mean_in_copy)\n",
    "index_std_in_copy=index_std_in.copy()\n",
    "index_std_in_copy.index=np.arange(30)\n",
    "dict5=dict(index_std_in_copy)\n",
    "index_mean_out=outbj.groupby(['date']).mean()['index']\n",
    "index_std_out=outbj.groupby(['date']).std()['index']\n",
    "index_mean_out_copy=index_mean_out.copy()\n",
    "index_mean_out_copy.index=np.arange(30)\n",
    "dict6=dict(index_mean_out_copy)\n",
    "index_std_out_copy=index_std_out.copy()\n",
    "index_std_out_copy.index=np.arange(30)\n",
    "dict7=dict(index_std_out_copy)\n",
    "train_data['index_mean_in']=train_data['day'].map(dict4)\n",
    "train_data['index_std_in']=train_data['day'].map(dict5)\n",
    "train_data['index_mean_out']=train_data['day'].map(dict6)\n",
    "train_data['index_std_out']=train_data['day'].map(dict7)"
   ]
  },
  {
   "cell_type": "code",
   "execution_count": 17,
   "metadata": {},
   "outputs": [],
   "source": [
    "ar_model1=AR(index_mean_in).fit()\n",
    "pred_index_mean_in=ar_model1.predict('20200216','20200224',dynamic=True)\n",
    "ar_model3=AR(index_mean_out).fit()\n",
    "pred_index_mean_out=ar_model3.predict('20200216','20200224',dynamic=True)\n",
    "ar_model2=AR(index_std_in).fit()\n",
    "pred_index_std_in=ar_model2.predict('20200216','20200224',dynamic=True)\n",
    "ar_model4=AR(index_std_out).fit()\n",
    "pred_index_std_out=ar_model4.predict('20200216','20200224',dynamic=True)\n",
    "dict_hi=dict(df4.groupby(['hour']).mean()['Index'])\n",
    "train_data['hi_encoded']=train_data['hour'].map(dict_hi)"
   ]
  },
  {
   "cell_type": "code",
   "execution_count": 18,
   "metadata": {},
   "outputs": [],
   "source": [
    "test_data=sub.copy()\n",
    "test_data.drop(['people_index'],axis=1,inplace=True)\n",
    "test_data['time']=pd.to_datetime(test_data['time'],format='%Y%m%d%H')\n",
    "test_data['weekday']=test_data['time'].dt.weekday\n",
    "test_data['hour']=test_data['time'].dt.hour\n",
    "\n",
    "# add relation to test data\n",
    "test_data_id_h = test_data[['ID','hour']].values\n",
    "mm = []\n",
    "for x in test_data_id_h:\n",
    "    mm.append(relation_encoder[(x[0],x[1])])\n",
    "mm = np.array(mm).T\n",
    "test_data['r_in'] = pd.DataFrame(mm[0])\n",
    "test_data['r_out'] = pd.DataFrame(mm[1])\n",
    "test_data['r_self'] = pd.DataFrame(mm[2])\n",
    "test_data['r_all'] = pd.DataFrame(mm[3])\n",
    "\n",
    "test_data['weekday_encoded']=test_data['weekday'].map(dict_wd)\n",
    "test_data['weekday_encoded1']=test_data['weekday'].map(dict_wd1)\n",
    "test_data['hour_encoded']=test_data['hour'].map(dict_h)\n",
    "test_data['hour_encoded1']=test_data['hour'].map(dict_h1)\n",
    "test_data['ID_encoded']=test_data['ID'].map(dict_id)\n",
    "test_data['ID_encoded1']=test_data['ID'].map(dict_id1)\n",
    "\n",
    "test_data['day']=test_data['time'].dt.day.apply(lambda x:x+14)\n",
    "pred_index_mean_in.index=np.arange(30,39,1)\n",
    "dict_pim=dict(pred_index_mean_in)\n",
    "pred_index_std_in.index=np.arange(30,39,1)\n",
    "dict_pis=dict(pred_index_std_in)\n",
    "\n",
    "pred_index_mean_out.index=np.arange(30,39,1)\n",
    "dict_pim1=dict(pred_index_mean_out)\n",
    "pred_index_std_out.index=np.arange(30,39,1)\n",
    "dict_pis1=dict(pred_index_std_out)"
   ]
  },
  {
   "cell_type": "code",
   "execution_count": 19,
   "metadata": {},
   "outputs": [],
   "source": [
    "test_data['index_mean_in']=test_data['day'].map(dict_pim)\n",
    "test_data['index_std_in']=test_data['day'].map(dict_pis)\n",
    "test_data['index_mean_out']=test_data['day'].map(dict_pim1)\n",
    "test_data['index_std_out']=test_data['day'].map(dict_pis1)\n",
    "test_data=pd.merge(test_data,df2,on=['ID'])\n",
    "test_data.drop(['Center_x','Center_y','Grid_x','Grid_y'],axis=1,inplace=True)\n",
    "test_data['hi_encoded']=test_data['hour'].map(dict_hi)\n",
    "\n",
    "test_data['area_type_encoded']=test_data['area_type'].map(dict_at)\n",
    "test_data['area_type_encoded1']=test_data['area_type'].map(dict_at1)\n",
    "\n",
    "test_data.drop(['ID','time','weekday','hour','day','area_name','area_type'],axis=1,inplace=True)\n",
    "train_data=train_data[train_data['day']>=16]\n",
    "train_data.index=np.arange(train_data.shape[0])\n",
    "target=train_data['people_index']"
   ]
  },
  {
   "cell_type": "code",
   "execution_count": 20,
   "metadata": {},
   "outputs": [
    {
     "output_type": "stream",
     "name": "stdout",
     "text": "train_data.head()\n    weekday_encoded  hour_encoded  ID_encoded  r_in  r_out  r_self  r_all  \\\n0        27.552537     12.499074    4.835556   0.4    0.4     0.0    0.8   \n1        27.552537      8.617108    4.835556   0.8    0.2     0.0    1.0   \n2        27.552537      7.245714    4.835556   0.1    0.2     0.0    0.3   \n3        27.552537      6.373882    4.835556   0.3    0.7     0.0    1.0   \n4        27.552537      6.205978    4.835556   0.8    0.7     0.0    1.5   \n\n   weekday_encoded1  hour_encoded1  ID_encoded1           area  \\\n0               6.2            3.8          4.1  395925.609375   \n1               6.2            2.6          4.1  395925.609375   \n2               6.2            2.1          4.1  395925.609375   \n3               6.2            1.8          4.1  395925.609375   \n4               6.2            1.7          4.1  395925.609375   \n\n   area_type_encoded  area_type_encoded1  index_mean_in  index_std_in  \\\n0          10.071021                 3.4       0.016892      0.042052   \n1          10.071021                 3.4       0.016892      0.042052   \n2          10.071021                 3.4       0.016892      0.042052   \n3          10.071021                 3.4       0.016892      0.042052   \n4          10.071021                 3.4       0.016892      0.042052   \n\n   index_mean_out  index_std_out  hi_encoded  \n0        0.003928       0.015576    0.111379  \n1        0.003928       0.015576    0.110136  \n2        0.003928       0.015576    0.109777  \n3        0.003928       0.015576    0.107989  \n4        0.003928       0.015576    0.106042  \ntest_new.head()\n    weekday_encoded  weekday_encoded1  hour_encoded  hour_encoded1  ID_encoded  \\\n0        27.552537               6.2     12.499074            3.8    4.835556   \n1        27.552537               6.2      8.617108            2.6    4.835556   \n2        27.552537               6.2      7.245714            2.1    4.835556   \n3        27.552537               6.2      6.373882            1.8    4.835556   \n4        27.552537               6.2      6.205978            1.7    4.835556   \n\n   ID_encoded1           area  area_type_encoded  area_type_encoded1  \\\n0          4.1  395925.609375          10.071021                 3.4   \n1          4.1  395925.609375          10.071021                 3.4   \n2          4.1  395925.609375          10.071021                 3.4   \n3          4.1  395925.609375          10.071021                 3.4   \n4          4.1  395925.609375          10.071021                 3.4   \n\n   index_mean_in  index_std_in  index_mean_out  index_std_out  hi_encoded  \\\n0       0.004731      0.029124        0.002587        0.01497    0.111379   \n1       0.004731      0.029124        0.002587        0.01497    0.110136   \n2       0.004731      0.029124        0.002587        0.01497    0.109777   \n3       0.004731      0.029124        0.002587        0.01497    0.107989   \n4       0.004731      0.029124        0.002587        0.01497    0.106042   \n\n   r_in  r_out  r_self  r_all  \n0   0.4    0.4     0.0    0.8  \n1   0.8    0.2     0.0    1.0  \n2   0.1    0.2     0.0    0.3  \n3   0.3    0.7     0.0    1.0  \n4   0.8    0.7     0.0    1.5  \n"
    }
   ],
   "source": [
    "train_data.drop(['people_index','day','ID','weekday','hour','Center_x','Center_y','Grid_x','Grid_y','time']\n",
    "                ,axis=1,inplace=True)\n",
    "print('train_data.head()\\n',train_data.head())\n",
    "test_new=pd.DataFrame([test_data['weekday_encoded']#周几平均\n",
    "                     ,test_data['weekday_encoded1'] # 周中位数\n",
    "                     ,test_data['hour_encoded']#小时平均\n",
    "                     ,test_data['hour_encoded1']#x小时中位数\n",
    "                     ,test_data['ID_encoded']#区域平均\n",
    "                     ,test_data['ID_encoded1'] # 区域中位数\n",
    "                     ,test_data['area']#区域面积\n",
    "                     ,test_data['area_type_encoded']#区域类型平均\n",
    "                     ,test_data['area_type_encoded1']\n",
    "                     ,test_data['index_mean_in']#迁入平均\n",
    "                     ,test_data['index_std_in']#迁入方差\n",
    "                     ,test_data['index_mean_out']#迁出平均\n",
    "                     ,test_data['index_std_out']#迁出方差\n",
    "                     ,test_data['hi_encoded']\n",
    "                     ,test_data['r_in']\n",
    "                     ,test_data['r_out']\n",
    "                      ,test_data['r_self']\n",
    "                      ,test_data['r_all']]).T#网格间流动小时平均\n",
    "print('test_new.head()\\n',test_new.head())"
   ]
  },
  {
   "cell_type": "code",
   "execution_count": 21,
   "metadata": {},
   "outputs": [],
   "source": [
    "import copy\n",
    "train_data_cp = copy.deepcopy(train_data)\n",
    "test_new_cp = copy.deepcopy(test_new)"
   ]
  },
  {
   "cell_type": "code",
   "execution_count": 22,
   "metadata": {},
   "outputs": [
    {
     "output_type": "execute_result",
     "data": {
      "text/plain": "   weekday_encoded  hour_encoded  ID_encoded  r_in  r_out  r_self  \\\n0        27.552537     12.499074    4.835556   0.4    0.4     0.0   \n1        27.552537      8.617108    4.835556   0.8    0.2     0.0   \n2        27.552537      7.245714    4.835556   0.1    0.2     0.0   \n3        27.552537      6.373882    4.835556   0.3    0.7     0.0   \n4        27.552537      6.205978    4.835556   0.8    0.7     0.0   \n5        27.552537      7.780906    4.835556   1.0    1.1     0.0   \n6        27.552537     13.849278    4.835556   2.3    4.2     0.0   \n7        27.552537     22.833651    4.835556   4.5    7.6     0.0   \n8        27.552537     31.165440    4.835556   3.1    7.7     0.0   \n9        27.552537     35.761210    4.835556   3.5    3.8     0.0   \n\n   weekday_encoded1  hour_encoded1  ID_encoded1           area  \\\n0               6.2            3.8          4.1  395925.609375   \n1               6.2            2.6          4.1  395925.609375   \n2               6.2            2.1          4.1  395925.609375   \n3               6.2            1.8          4.1  395925.609375   \n4               6.2            1.7          4.1  395925.609375   \n5               6.2            2.1          4.1  395925.609375   \n6               6.2            3.8          4.1  395925.609375   \n7               6.2            6.5          4.1  395925.609375   \n8               6.2            9.1          4.1  395925.609375   \n9               6.2           10.5          4.1  395925.609375   \n\n   area_type_encoded  area_type_encoded1  index_mean_in  index_std_in  \\\n0          10.071021                 3.4       0.016892      0.042052   \n1          10.071021                 3.4       0.016892      0.042052   \n2          10.071021                 3.4       0.016892      0.042052   \n3          10.071021                 3.4       0.016892      0.042052   \n4          10.071021                 3.4       0.016892      0.042052   \n5          10.071021                 3.4       0.016892      0.042052   \n6          10.071021                 3.4       0.016892      0.042052   \n7          10.071021                 3.4       0.016892      0.042052   \n8          10.071021                 3.4       0.016892      0.042052   \n9          10.071021                 3.4       0.016892      0.042052   \n\n   index_mean_out  index_std_out  hi_encoded  \n0        0.003928       0.015576    0.111379  \n1        0.003928       0.015576    0.110136  \n2        0.003928       0.015576    0.109777  \n3        0.003928       0.015576    0.107989  \n4        0.003928       0.015576    0.106042  \n5        0.003928       0.015576    0.105457  \n6        0.003928       0.015576    0.105526  \n7        0.003928       0.015576    0.106695  \n8        0.003928       0.015576    0.107794  \n9        0.003928       0.015576    0.107154  ",
      "text/html": "<div>\n<style scoped>\n    .dataframe tbody tr th:only-of-type {\n        vertical-align: middle;\n    }\n\n    .dataframe tbody tr th {\n        vertical-align: top;\n    }\n\n    .dataframe thead th {\n        text-align: right;\n    }\n</style>\n<table border=\"1\" class=\"dataframe\">\n  <thead>\n    <tr style=\"text-align: right;\">\n      <th></th>\n      <th>weekday_encoded</th>\n      <th>hour_encoded</th>\n      <th>ID_encoded</th>\n      <th>r_in</th>\n      <th>r_out</th>\n      <th>r_self</th>\n      <th>weekday_encoded1</th>\n      <th>hour_encoded1</th>\n      <th>ID_encoded1</th>\n      <th>area</th>\n      <th>area_type_encoded</th>\n      <th>area_type_encoded1</th>\n      <th>index_mean_in</th>\n      <th>index_std_in</th>\n      <th>index_mean_out</th>\n      <th>index_std_out</th>\n      <th>hi_encoded</th>\n    </tr>\n  </thead>\n  <tbody>\n    <tr>\n      <th>0</th>\n      <td>27.552537</td>\n      <td>12.499074</td>\n      <td>4.835556</td>\n      <td>0.4</td>\n      <td>0.4</td>\n      <td>0.0</td>\n      <td>6.2</td>\n      <td>3.8</td>\n      <td>4.1</td>\n      <td>395925.609375</td>\n      <td>10.071021</td>\n      <td>3.4</td>\n      <td>0.016892</td>\n      <td>0.042052</td>\n      <td>0.003928</td>\n      <td>0.015576</td>\n      <td>0.111379</td>\n    </tr>\n    <tr>\n      <th>1</th>\n      <td>27.552537</td>\n      <td>8.617108</td>\n      <td>4.835556</td>\n      <td>0.8</td>\n      <td>0.2</td>\n      <td>0.0</td>\n      <td>6.2</td>\n      <td>2.6</td>\n      <td>4.1</td>\n      <td>395925.609375</td>\n      <td>10.071021</td>\n      <td>3.4</td>\n      <td>0.016892</td>\n      <td>0.042052</td>\n      <td>0.003928</td>\n      <td>0.015576</td>\n      <td>0.110136</td>\n    </tr>\n    <tr>\n      <th>2</th>\n      <td>27.552537</td>\n      <td>7.245714</td>\n      <td>4.835556</td>\n      <td>0.1</td>\n      <td>0.2</td>\n      <td>0.0</td>\n      <td>6.2</td>\n      <td>2.1</td>\n      <td>4.1</td>\n      <td>395925.609375</td>\n      <td>10.071021</td>\n      <td>3.4</td>\n      <td>0.016892</td>\n      <td>0.042052</td>\n      <td>0.003928</td>\n      <td>0.015576</td>\n      <td>0.109777</td>\n    </tr>\n    <tr>\n      <th>3</th>\n      <td>27.552537</td>\n      <td>6.373882</td>\n      <td>4.835556</td>\n      <td>0.3</td>\n      <td>0.7</td>\n      <td>0.0</td>\n      <td>6.2</td>\n      <td>1.8</td>\n      <td>4.1</td>\n      <td>395925.609375</td>\n      <td>10.071021</td>\n      <td>3.4</td>\n      <td>0.016892</td>\n      <td>0.042052</td>\n      <td>0.003928</td>\n      <td>0.015576</td>\n      <td>0.107989</td>\n    </tr>\n    <tr>\n      <th>4</th>\n      <td>27.552537</td>\n      <td>6.205978</td>\n      <td>4.835556</td>\n      <td>0.8</td>\n      <td>0.7</td>\n      <td>0.0</td>\n      <td>6.2</td>\n      <td>1.7</td>\n      <td>4.1</td>\n      <td>395925.609375</td>\n      <td>10.071021</td>\n      <td>3.4</td>\n      <td>0.016892</td>\n      <td>0.042052</td>\n      <td>0.003928</td>\n      <td>0.015576</td>\n      <td>0.106042</td>\n    </tr>\n    <tr>\n      <th>5</th>\n      <td>27.552537</td>\n      <td>7.780906</td>\n      <td>4.835556</td>\n      <td>1.0</td>\n      <td>1.1</td>\n      <td>0.0</td>\n      <td>6.2</td>\n      <td>2.1</td>\n      <td>4.1</td>\n      <td>395925.609375</td>\n      <td>10.071021</td>\n      <td>3.4</td>\n      <td>0.016892</td>\n      <td>0.042052</td>\n      <td>0.003928</td>\n      <td>0.015576</td>\n      <td>0.105457</td>\n    </tr>\n    <tr>\n      <th>6</th>\n      <td>27.552537</td>\n      <td>13.849278</td>\n      <td>4.835556</td>\n      <td>2.3</td>\n      <td>4.2</td>\n      <td>0.0</td>\n      <td>6.2</td>\n      <td>3.8</td>\n      <td>4.1</td>\n      <td>395925.609375</td>\n      <td>10.071021</td>\n      <td>3.4</td>\n      <td>0.016892</td>\n      <td>0.042052</td>\n      <td>0.003928</td>\n      <td>0.015576</td>\n      <td>0.105526</td>\n    </tr>\n    <tr>\n      <th>7</th>\n      <td>27.552537</td>\n      <td>22.833651</td>\n      <td>4.835556</td>\n      <td>4.5</td>\n      <td>7.6</td>\n      <td>0.0</td>\n      <td>6.2</td>\n      <td>6.5</td>\n      <td>4.1</td>\n      <td>395925.609375</td>\n      <td>10.071021</td>\n      <td>3.4</td>\n      <td>0.016892</td>\n      <td>0.042052</td>\n      <td>0.003928</td>\n      <td>0.015576</td>\n      <td>0.106695</td>\n    </tr>\n    <tr>\n      <th>8</th>\n      <td>27.552537</td>\n      <td>31.165440</td>\n      <td>4.835556</td>\n      <td>3.1</td>\n      <td>7.7</td>\n      <td>0.0</td>\n      <td>6.2</td>\n      <td>9.1</td>\n      <td>4.1</td>\n      <td>395925.609375</td>\n      <td>10.071021</td>\n      <td>3.4</td>\n      <td>0.016892</td>\n      <td>0.042052</td>\n      <td>0.003928</td>\n      <td>0.015576</td>\n      <td>0.107794</td>\n    </tr>\n    <tr>\n      <th>9</th>\n      <td>27.552537</td>\n      <td>35.761210</td>\n      <td>4.835556</td>\n      <td>3.5</td>\n      <td>3.8</td>\n      <td>0.0</td>\n      <td>6.2</td>\n      <td>10.5</td>\n      <td>4.1</td>\n      <td>395925.609375</td>\n      <td>10.071021</td>\n      <td>3.4</td>\n      <td>0.016892</td>\n      <td>0.042052</td>\n      <td>0.003928</td>\n      <td>0.015576</td>\n      <td>0.107154</td>\n    </tr>\n  </tbody>\n</table>\n</div>"
     },
     "metadata": {},
     "execution_count": 22
    }
   ],
   "source": [
    "columns = list(train_data_cp.columns)\n",
    "train_data = train_data_cp[columns]\n",
    "test_new = test_new_cp[columns]\n",
    "train_data = train_data.drop(['r_all'],axis=1) #['weekday_encoded','hour_encoded','ID_encoded']\n",
    "# # train_data = train_data.drop(['r_in','r_out','r_self'],axis=1)\n",
    "test_new = test_new.drop(['r_all'],axis=1)\n",
    "train_data.head(10)"
   ]
  },
  {
   "cell_type": "code",
   "execution_count": 23,
   "metadata": {},
   "outputs": [
    {
     "output_type": "execute_result",
     "data": {
      "text/plain": "   weekday_encoded  hour_encoded  ID_encoded  r_in  r_out  r_self  \\\n0        27.552537     12.499074    4.835556   0.4    0.4     0.0   \n1        27.552537      8.617108    4.835556   0.8    0.2     0.0   \n2        27.552537      7.245714    4.835556   0.1    0.2     0.0   \n3        27.552537      6.373882    4.835556   0.3    0.7     0.0   \n4        27.552537      6.205978    4.835556   0.8    0.7     0.0   \n5        27.552537      7.780906    4.835556   1.0    1.1     0.0   \n6        27.552537     13.849278    4.835556   2.3    4.2     0.0   \n7        27.552537     22.833651    4.835556   4.5    7.6     0.0   \n8        27.552537     31.165440    4.835556   3.1    7.7     0.0   \n9        27.552537     35.761210    4.835556   3.5    3.8     0.0   \n\n   weekday_encoded1  hour_encoded1  ID_encoded1           area  \\\n0               6.2            3.8          4.1  395925.609375   \n1               6.2            2.6          4.1  395925.609375   \n2               6.2            2.1          4.1  395925.609375   \n3               6.2            1.8          4.1  395925.609375   \n4               6.2            1.7          4.1  395925.609375   \n5               6.2            2.1          4.1  395925.609375   \n6               6.2            3.8          4.1  395925.609375   \n7               6.2            6.5          4.1  395925.609375   \n8               6.2            9.1          4.1  395925.609375   \n9               6.2           10.5          4.1  395925.609375   \n\n   area_type_encoded  area_type_encoded1  index_mean_in  index_std_in  \\\n0          10.071021                 3.4       0.004731      0.029124   \n1          10.071021                 3.4       0.004731      0.029124   \n2          10.071021                 3.4       0.004731      0.029124   \n3          10.071021                 3.4       0.004731      0.029124   \n4          10.071021                 3.4       0.004731      0.029124   \n5          10.071021                 3.4       0.004731      0.029124   \n6          10.071021                 3.4       0.004731      0.029124   \n7          10.071021                 3.4       0.004731      0.029124   \n8          10.071021                 3.4       0.004731      0.029124   \n9          10.071021                 3.4       0.004731      0.029124   \n\n   index_mean_out  index_std_out  hi_encoded  \n0        0.002587        0.01497    0.111379  \n1        0.002587        0.01497    0.110136  \n2        0.002587        0.01497    0.109777  \n3        0.002587        0.01497    0.107989  \n4        0.002587        0.01497    0.106042  \n5        0.002587        0.01497    0.105457  \n6        0.002587        0.01497    0.105526  \n7        0.002587        0.01497    0.106695  \n8        0.002587        0.01497    0.107794  \n9        0.002587        0.01497    0.107154  ",
      "text/html": "<div>\n<style scoped>\n    .dataframe tbody tr th:only-of-type {\n        vertical-align: middle;\n    }\n\n    .dataframe tbody tr th {\n        vertical-align: top;\n    }\n\n    .dataframe thead th {\n        text-align: right;\n    }\n</style>\n<table border=\"1\" class=\"dataframe\">\n  <thead>\n    <tr style=\"text-align: right;\">\n      <th></th>\n      <th>weekday_encoded</th>\n      <th>hour_encoded</th>\n      <th>ID_encoded</th>\n      <th>r_in</th>\n      <th>r_out</th>\n      <th>r_self</th>\n      <th>weekday_encoded1</th>\n      <th>hour_encoded1</th>\n      <th>ID_encoded1</th>\n      <th>area</th>\n      <th>area_type_encoded</th>\n      <th>area_type_encoded1</th>\n      <th>index_mean_in</th>\n      <th>index_std_in</th>\n      <th>index_mean_out</th>\n      <th>index_std_out</th>\n      <th>hi_encoded</th>\n    </tr>\n  </thead>\n  <tbody>\n    <tr>\n      <th>0</th>\n      <td>27.552537</td>\n      <td>12.499074</td>\n      <td>4.835556</td>\n      <td>0.4</td>\n      <td>0.4</td>\n      <td>0.0</td>\n      <td>6.2</td>\n      <td>3.8</td>\n      <td>4.1</td>\n      <td>395925.609375</td>\n      <td>10.071021</td>\n      <td>3.4</td>\n      <td>0.004731</td>\n      <td>0.029124</td>\n      <td>0.002587</td>\n      <td>0.01497</td>\n      <td>0.111379</td>\n    </tr>\n    <tr>\n      <th>1</th>\n      <td>27.552537</td>\n      <td>8.617108</td>\n      <td>4.835556</td>\n      <td>0.8</td>\n      <td>0.2</td>\n      <td>0.0</td>\n      <td>6.2</td>\n      <td>2.6</td>\n      <td>4.1</td>\n      <td>395925.609375</td>\n      <td>10.071021</td>\n      <td>3.4</td>\n      <td>0.004731</td>\n      <td>0.029124</td>\n      <td>0.002587</td>\n      <td>0.01497</td>\n      <td>0.110136</td>\n    </tr>\n    <tr>\n      <th>2</th>\n      <td>27.552537</td>\n      <td>7.245714</td>\n      <td>4.835556</td>\n      <td>0.1</td>\n      <td>0.2</td>\n      <td>0.0</td>\n      <td>6.2</td>\n      <td>2.1</td>\n      <td>4.1</td>\n      <td>395925.609375</td>\n      <td>10.071021</td>\n      <td>3.4</td>\n      <td>0.004731</td>\n      <td>0.029124</td>\n      <td>0.002587</td>\n      <td>0.01497</td>\n      <td>0.109777</td>\n    </tr>\n    <tr>\n      <th>3</th>\n      <td>27.552537</td>\n      <td>6.373882</td>\n      <td>4.835556</td>\n      <td>0.3</td>\n      <td>0.7</td>\n      <td>0.0</td>\n      <td>6.2</td>\n      <td>1.8</td>\n      <td>4.1</td>\n      <td>395925.609375</td>\n      <td>10.071021</td>\n      <td>3.4</td>\n      <td>0.004731</td>\n      <td>0.029124</td>\n      <td>0.002587</td>\n      <td>0.01497</td>\n      <td>0.107989</td>\n    </tr>\n    <tr>\n      <th>4</th>\n      <td>27.552537</td>\n      <td>6.205978</td>\n      <td>4.835556</td>\n      <td>0.8</td>\n      <td>0.7</td>\n      <td>0.0</td>\n      <td>6.2</td>\n      <td>1.7</td>\n      <td>4.1</td>\n      <td>395925.609375</td>\n      <td>10.071021</td>\n      <td>3.4</td>\n      <td>0.004731</td>\n      <td>0.029124</td>\n      <td>0.002587</td>\n      <td>0.01497</td>\n      <td>0.106042</td>\n    </tr>\n    <tr>\n      <th>5</th>\n      <td>27.552537</td>\n      <td>7.780906</td>\n      <td>4.835556</td>\n      <td>1.0</td>\n      <td>1.1</td>\n      <td>0.0</td>\n      <td>6.2</td>\n      <td>2.1</td>\n      <td>4.1</td>\n      <td>395925.609375</td>\n      <td>10.071021</td>\n      <td>3.4</td>\n      <td>0.004731</td>\n      <td>0.029124</td>\n      <td>0.002587</td>\n      <td>0.01497</td>\n      <td>0.105457</td>\n    </tr>\n    <tr>\n      <th>6</th>\n      <td>27.552537</td>\n      <td>13.849278</td>\n      <td>4.835556</td>\n      <td>2.3</td>\n      <td>4.2</td>\n      <td>0.0</td>\n      <td>6.2</td>\n      <td>3.8</td>\n      <td>4.1</td>\n      <td>395925.609375</td>\n      <td>10.071021</td>\n      <td>3.4</td>\n      <td>0.004731</td>\n      <td>0.029124</td>\n      <td>0.002587</td>\n      <td>0.01497</td>\n      <td>0.105526</td>\n    </tr>\n    <tr>\n      <th>7</th>\n      <td>27.552537</td>\n      <td>22.833651</td>\n      <td>4.835556</td>\n      <td>4.5</td>\n      <td>7.6</td>\n      <td>0.0</td>\n      <td>6.2</td>\n      <td>6.5</td>\n      <td>4.1</td>\n      <td>395925.609375</td>\n      <td>10.071021</td>\n      <td>3.4</td>\n      <td>0.004731</td>\n      <td>0.029124</td>\n      <td>0.002587</td>\n      <td>0.01497</td>\n      <td>0.106695</td>\n    </tr>\n    <tr>\n      <th>8</th>\n      <td>27.552537</td>\n      <td>31.165440</td>\n      <td>4.835556</td>\n      <td>3.1</td>\n      <td>7.7</td>\n      <td>0.0</td>\n      <td>6.2</td>\n      <td>9.1</td>\n      <td>4.1</td>\n      <td>395925.609375</td>\n      <td>10.071021</td>\n      <td>3.4</td>\n      <td>0.004731</td>\n      <td>0.029124</td>\n      <td>0.002587</td>\n      <td>0.01497</td>\n      <td>0.107794</td>\n    </tr>\n    <tr>\n      <th>9</th>\n      <td>27.552537</td>\n      <td>35.761210</td>\n      <td>4.835556</td>\n      <td>3.5</td>\n      <td>3.8</td>\n      <td>0.0</td>\n      <td>6.2</td>\n      <td>10.5</td>\n      <td>4.1</td>\n      <td>395925.609375</td>\n      <td>10.071021</td>\n      <td>3.4</td>\n      <td>0.004731</td>\n      <td>0.029124</td>\n      <td>0.002587</td>\n      <td>0.01497</td>\n      <td>0.107154</td>\n    </tr>\n  </tbody>\n</table>\n</div>"
     },
     "metadata": {},
     "execution_count": 23
    }
   ],
   "source": [
    "test_new.head(10)"
   ]
  },
  {
   "cell_type": "code",
   "execution_count": 24,
   "metadata": {},
   "outputs": [
    {
     "output_type": "stream",
     "name": "stdout",
     "text": "0.12387561865832812\n0.05729824397005884\n0.07453139654671918\n0.08219572056803917\n0.059274678120665024\n0.14721337892223024\n0.1318127947211612\n0.11827457707405323\n0.012986601373692364\n0.15472308692190265\n0.09254054444919191\n"
    }
   ],
   "source": [
    "model_lgb=lgb.LGBMRegressor(num_leaves=20\n",
    "                            ,max_depth=6\n",
    "                            ,learning_rate=0.09\n",
    "                            ,n_estimators=1100#最大生成树数量\n",
    "                            ,n_jobs=-1)#所有core进行计算\n",
    "x_train,x_test,y_train,y_test=train_test_split(train_data,target,test_size=0.2, shuffle=False)\n",
    "model_lgb.fit(x_train,y_train)\n",
    "y_hat=model_lgb.predict(x_test)\n",
    "y_hat[y_hat<0]=0\n",
    "print(1/(mean_squared_error(y_test,y_hat)**0.5+1))\n",
    "keys=[]\n",
    "sk=KFold(n_splits=10,shuffle=False)\n",
    "for train,test in sk.split(train_data,target):\n",
    "    x_train=train_data.iloc[train]\n",
    "    y_train=target.iloc[train]\n",
    "    x_test=train_data.iloc[test]\n",
    "    y_test=target.iloc[test]\n",
    "    model_lgb.fit(x_train,y_train)\n",
    "    y_hat=model_lgb.predict(x_test)\n",
    "    y_hat[y_hat<0]=0\n",
    "    print(1/(mean_squared_error(y_test,y_hat)**0.5+1))\n",
    "\n",
    "    keys.append(model_lgb.predict(test_new))\n",
    "keys=np.array(keys)\n",
    "# km=y_hat\n",
    "# km[km<0]=0\n",
    "# sub.iloc[:,2]=km\n",
    "\n",
    "# sub.to_csv('result_relation2.csv',encoding='utf-8',header=None,index=None)\n"
   ]
  },
  {
   "cell_type": "code",
   "execution_count": 32,
   "metadata": {},
   "outputs": [],
   "source": [
    "# 取效果最好的三个\n",
    "km=np.average(keys, axis=0, weights=[0, 0, 0, 0, 0.1472, 0.1318, 0, 0, 0.1547, 0])\n",
    "km = model_lgb.predict(test_new)\n",
    "km[km<0]=0\n",
    "sub.iloc[:,2]=km\n",
    "\n",
    "sub.to_csv('result_relation2.csv',encoding='utf-8',header=None,index=None)\n"
   ]
  },
  {
   "cell_type": "code",
   "execution_count": 25,
   "metadata": {},
   "outputs": [
    {
     "data": {
      "text/html": [
       "<div>\n",
       "<style scoped>\n",
       "    .dataframe tbody tr th:only-of-type {\n",
       "        vertical-align: middle;\n",
       "    }\n",
       "\n",
       "    .dataframe tbody tr th {\n",
       "        vertical-align: top;\n",
       "    }\n",
       "\n",
       "    .dataframe thead th {\n",
       "        text-align: right;\n",
       "    }\n",
       "</style>\n",
       "<table border=\"1\" class=\"dataframe\">\n",
       "  <thead>\n",
       "    <tr style=\"text-align: right;\">\n",
       "      <th></th>\n",
       "      <th>weekday_encoded</th>\n",
       "      <th>hour_encoded</th>\n",
       "      <th>ID_encoded</th>\n",
       "      <th>r_in</th>\n",
       "      <th>r_out</th>\n",
       "      <th>weekday_encoded1</th>\n",
       "      <th>hour_encoded1</th>\n",
       "      <th>ID_encoded1</th>\n",
       "      <th>area</th>\n",
       "      <th>area_type_encoded</th>\n",
       "      <th>area_type_encoded1</th>\n",
       "      <th>index_mean_in</th>\n",
       "      <th>index_std_in</th>\n",
       "      <th>index_mean_out</th>\n",
       "      <th>index_std_out</th>\n",
       "      <th>hi_encoded</th>\n",
       "    </tr>\n",
       "  </thead>\n",
       "  <tbody>\n",
       "    <tr>\n",
       "      <th>0</th>\n",
       "      <td>27.552537</td>\n",
       "      <td>12.499074</td>\n",
       "      <td>4.835556</td>\n",
       "      <td>0.4</td>\n",
       "      <td>0.4</td>\n",
       "      <td>6.2</td>\n",
       "      <td>3.8</td>\n",
       "      <td>4.1</td>\n",
       "      <td>395925.609375</td>\n",
       "      <td>10.071021</td>\n",
       "      <td>3.4</td>\n",
       "      <td>0.016892</td>\n",
       "      <td>0.042052</td>\n",
       "      <td>0.003928</td>\n",
       "      <td>0.015576</td>\n",
       "      <td>0.111379</td>\n",
       "    </tr>\n",
       "    <tr>\n",
       "      <th>1</th>\n",
       "      <td>27.552537</td>\n",
       "      <td>8.617108</td>\n",
       "      <td>4.835556</td>\n",
       "      <td>0.8</td>\n",
       "      <td>0.2</td>\n",
       "      <td>6.2</td>\n",
       "      <td>2.6</td>\n",
       "      <td>4.1</td>\n",
       "      <td>395925.609375</td>\n",
       "      <td>10.071021</td>\n",
       "      <td>3.4</td>\n",
       "      <td>0.016892</td>\n",
       "      <td>0.042052</td>\n",
       "      <td>0.003928</td>\n",
       "      <td>0.015576</td>\n",
       "      <td>0.110136</td>\n",
       "    </tr>\n",
       "    <tr>\n",
       "      <th>3</th>\n",
       "      <td>27.552537</td>\n",
       "      <td>6.373882</td>\n",
       "      <td>4.835556</td>\n",
       "      <td>0.3</td>\n",
       "      <td>0.7</td>\n",
       "      <td>6.2</td>\n",
       "      <td>1.8</td>\n",
       "      <td>4.1</td>\n",
       "      <td>395925.609375</td>\n",
       "      <td>10.071021</td>\n",
       "      <td>3.4</td>\n",
       "      <td>0.016892</td>\n",
       "      <td>0.042052</td>\n",
       "      <td>0.003928</td>\n",
       "      <td>0.015576</td>\n",
       "      <td>0.107989</td>\n",
       "    </tr>\n",
       "    <tr>\n",
       "      <th>4</th>\n",
       "      <td>27.552537</td>\n",
       "      <td>6.205978</td>\n",
       "      <td>4.835556</td>\n",
       "      <td>0.8</td>\n",
       "      <td>0.7</td>\n",
       "      <td>6.2</td>\n",
       "      <td>1.7</td>\n",
       "      <td>4.1</td>\n",
       "      <td>395925.609375</td>\n",
       "      <td>10.071021</td>\n",
       "      <td>3.4</td>\n",
       "      <td>0.016892</td>\n",
       "      <td>0.042052</td>\n",
       "      <td>0.003928</td>\n",
       "      <td>0.015576</td>\n",
       "      <td>0.106042</td>\n",
       "    </tr>\n",
       "    <tr>\n",
       "      <th>5</th>\n",
       "      <td>27.552537</td>\n",
       "      <td>7.780906</td>\n",
       "      <td>4.835556</td>\n",
       "      <td>1.0</td>\n",
       "      <td>1.1</td>\n",
       "      <td>6.2</td>\n",
       "      <td>2.1</td>\n",
       "      <td>4.1</td>\n",
       "      <td>395925.609375</td>\n",
       "      <td>10.071021</td>\n",
       "      <td>3.4</td>\n",
       "      <td>0.016892</td>\n",
       "      <td>0.042052</td>\n",
       "      <td>0.003928</td>\n",
       "      <td>0.015576</td>\n",
       "      <td>0.105457</td>\n",
       "    </tr>\n",
       "    <tr>\n",
       "      <th>...</th>\n",
       "      <td>...</td>\n",
       "      <td>...</td>\n",
       "      <td>...</td>\n",
       "      <td>...</td>\n",
       "      <td>...</td>\n",
       "      <td>...</td>\n",
       "      <td>...</td>\n",
       "      <td>...</td>\n",
       "      <td>...</td>\n",
       "      <td>...</td>\n",
       "      <td>...</td>\n",
       "      <td>...</td>\n",
       "      <td>...</td>\n",
       "      <td>...</td>\n",
       "      <td>...</td>\n",
       "      <td>...</td>\n",
       "    </tr>\n",
       "    <tr>\n",
       "      <th>334987</th>\n",
       "      <td>26.135403</td>\n",
       "      <td>31.906556</td>\n",
       "      <td>0.001667</td>\n",
       "      <td>0.0</td>\n",
       "      <td>0.0</td>\n",
       "      <td>6.2</td>\n",
       "      <td>8.8</td>\n",
       "      <td>0.0</td>\n",
       "      <td>39963.562500</td>\n",
       "      <td>8.648456</td>\n",
       "      <td>2.4</td>\n",
       "      <td>0.004526</td>\n",
       "      <td>0.015719</td>\n",
       "      <td>0.002459</td>\n",
       "      <td>0.015534</td>\n",
       "      <td>0.108056</td>\n",
       "    </tr>\n",
       "    <tr>\n",
       "      <th>334988</th>\n",
       "      <td>26.135403</td>\n",
       "      <td>28.783407</td>\n",
       "      <td>0.001667</td>\n",
       "      <td>0.0</td>\n",
       "      <td>0.0</td>\n",
       "      <td>6.2</td>\n",
       "      <td>8.1</td>\n",
       "      <td>0.0</td>\n",
       "      <td>39963.562500</td>\n",
       "      <td>8.648456</td>\n",
       "      <td>2.4</td>\n",
       "      <td>0.004526</td>\n",
       "      <td>0.015719</td>\n",
       "      <td>0.002459</td>\n",
       "      <td>0.015534</td>\n",
       "      <td>0.108469</td>\n",
       "    </tr>\n",
       "    <tr>\n",
       "      <th>334989</th>\n",
       "      <td>26.135403</td>\n",
       "      <td>25.377081</td>\n",
       "      <td>0.001667</td>\n",
       "      <td>0.0</td>\n",
       "      <td>0.0</td>\n",
       "      <td>6.2</td>\n",
       "      <td>7.2</td>\n",
       "      <td>0.0</td>\n",
       "      <td>39963.562500</td>\n",
       "      <td>8.648456</td>\n",
       "      <td>2.4</td>\n",
       "      <td>0.004526</td>\n",
       "      <td>0.015719</td>\n",
       "      <td>0.002459</td>\n",
       "      <td>0.015534</td>\n",
       "      <td>0.108725</td>\n",
       "    </tr>\n",
       "    <tr>\n",
       "      <th>334990</th>\n",
       "      <td>26.135403</td>\n",
       "      <td>21.086499</td>\n",
       "      <td>0.001667</td>\n",
       "      <td>0.0</td>\n",
       "      <td>0.0</td>\n",
       "      <td>6.2</td>\n",
       "      <td>6.4</td>\n",
       "      <td>0.0</td>\n",
       "      <td>39963.562500</td>\n",
       "      <td>8.648456</td>\n",
       "      <td>2.4</td>\n",
       "      <td>0.004526</td>\n",
       "      <td>0.015719</td>\n",
       "      <td>0.002459</td>\n",
       "      <td>0.015534</td>\n",
       "      <td>0.109927</td>\n",
       "    </tr>\n",
       "    <tr>\n",
       "      <th>334991</th>\n",
       "      <td>26.135403</td>\n",
       "      <td>16.290572</td>\n",
       "      <td>0.001667</td>\n",
       "      <td>0.0</td>\n",
       "      <td>0.0</td>\n",
       "      <td>6.2</td>\n",
       "      <td>5.0</td>\n",
       "      <td>0.0</td>\n",
       "      <td>39963.562500</td>\n",
       "      <td>8.648456</td>\n",
       "      <td>2.4</td>\n",
       "      <td>0.004526</td>\n",
       "      <td>0.015719</td>\n",
       "      <td>0.002459</td>\n",
       "      <td>0.015534</td>\n",
       "      <td>0.112609</td>\n",
       "    </tr>\n",
       "  </tbody>\n",
       "</table>\n",
       "<p>301493 rows × 16 columns</p>\n",
       "</div>"
      ],
      "text/plain": [
       "        weekday_encoded  hour_encoded  ID_encoded  r_in  r_out  \\\n",
       "0             27.552537     12.499074    4.835556   0.4    0.4   \n",
       "1             27.552537      8.617108    4.835556   0.8    0.2   \n",
       "3             27.552537      6.373882    4.835556   0.3    0.7   \n",
       "4             27.552537      6.205978    4.835556   0.8    0.7   \n",
       "5             27.552537      7.780906    4.835556   1.0    1.1   \n",
       "...                 ...           ...         ...   ...    ...   \n",
       "334987        26.135403     31.906556    0.001667   0.0    0.0   \n",
       "334988        26.135403     28.783407    0.001667   0.0    0.0   \n",
       "334989        26.135403     25.377081    0.001667   0.0    0.0   \n",
       "334990        26.135403     21.086499    0.001667   0.0    0.0   \n",
       "334991        26.135403     16.290572    0.001667   0.0    0.0   \n",
       "\n",
       "        weekday_encoded1  hour_encoded1  ID_encoded1           area  \\\n",
       "0                    6.2            3.8          4.1  395925.609375   \n",
       "1                    6.2            2.6          4.1  395925.609375   \n",
       "3                    6.2            1.8          4.1  395925.609375   \n",
       "4                    6.2            1.7          4.1  395925.609375   \n",
       "5                    6.2            2.1          4.1  395925.609375   \n",
       "...                  ...            ...          ...            ...   \n",
       "334987               6.2            8.8          0.0   39963.562500   \n",
       "334988               6.2            8.1          0.0   39963.562500   \n",
       "334989               6.2            7.2          0.0   39963.562500   \n",
       "334990               6.2            6.4          0.0   39963.562500   \n",
       "334991               6.2            5.0          0.0   39963.562500   \n",
       "\n",
       "        area_type_encoded  area_type_encoded1  index_mean_in  index_std_in  \\\n",
       "0               10.071021                 3.4       0.016892      0.042052   \n",
       "1               10.071021                 3.4       0.016892      0.042052   \n",
       "3               10.071021                 3.4       0.016892      0.042052   \n",
       "4               10.071021                 3.4       0.016892      0.042052   \n",
       "5               10.071021                 3.4       0.016892      0.042052   \n",
       "...                   ...                 ...            ...           ...   \n",
       "334987           8.648456                 2.4       0.004526      0.015719   \n",
       "334988           8.648456                 2.4       0.004526      0.015719   \n",
       "334989           8.648456                 2.4       0.004526      0.015719   \n",
       "334990           8.648456                 2.4       0.004526      0.015719   \n",
       "334991           8.648456                 2.4       0.004526      0.015719   \n",
       "\n",
       "        index_mean_out  index_std_out  hi_encoded  \n",
       "0             0.003928       0.015576    0.111379  \n",
       "1             0.003928       0.015576    0.110136  \n",
       "3             0.003928       0.015576    0.107989  \n",
       "4             0.003928       0.015576    0.106042  \n",
       "5             0.003928       0.015576    0.105457  \n",
       "...                ...            ...         ...  \n",
       "334987        0.002459       0.015534    0.108056  \n",
       "334988        0.002459       0.015534    0.108469  \n",
       "334989        0.002459       0.015534    0.108725  \n",
       "334990        0.002459       0.015534    0.109927  \n",
       "334991        0.002459       0.015534    0.112609  \n",
       "\n",
       "[301493 rows x 16 columns]"
      ]
     },
     "execution_count": 25,
     "metadata": {},
     "output_type": "execute_result"
    }
   ],
   "source": [
    "x_train"
   ]
  },
  {
   "cell_type": "code",
   "execution_count": 26,
   "metadata": {},
   "outputs": [
    {
     "data": {
      "text/plain": [
       "date\n",
       "2020-01-17    0.021259\n",
       "2020-01-18    0.019660\n",
       "2020-01-19    0.020686\n",
       "2020-01-20    0.018919\n",
       "2020-01-21    0.019067\n",
       "2020-01-22    0.015993\n",
       "2020-01-23    0.013219\n",
       "2020-01-24    0.010207\n",
       "2020-01-25    0.007061\n",
       "2020-01-26    0.014135\n",
       "2020-01-27    0.017364\n",
       "2020-01-28    0.016684\n",
       "2020-01-29    0.015595\n",
       "2020-01-30    0.016910\n",
       "2020-01-31    0.016037\n",
       "2020-02-01    0.015355\n",
       "2020-02-02    0.016892\n",
       "2020-02-03    0.015540\n",
       "2020-02-04    0.009758\n",
       "2020-02-05    0.008186\n",
       "2020-02-06    0.006952\n",
       "2020-02-07    0.007326\n",
       "2020-02-08    0.008160\n",
       "2020-02-09    0.011226\n",
       "2020-02-10    0.011894\n",
       "2020-02-11    0.007470\n",
       "2020-02-12    0.006291\n",
       "2020-02-13    0.006087\n",
       "2020-02-14    0.005023\n",
       "2020-02-15    0.004526\n",
       "Name: index, dtype: float64"
      ]
     },
     "execution_count": 26,
     "metadata": {},
     "output_type": "execute_result"
    }
   ],
   "source": [
    "inbj.groupby(['date']).mean()['index']"
   ]
  },
  {
   "cell_type": "code",
   "execution_count": 27,
   "metadata": {},
   "outputs": [
    {
     "data": {
      "text/plain": [
       "date\n",
       "2020-01-17    0.003450\n",
       "2020-01-18    0.003430\n",
       "2020-01-19    0.003370\n",
       "2020-01-20    0.003270\n",
       "2020-01-21    0.003920\n",
       "2020-01-22    0.003660\n",
       "2020-01-23    0.003690\n",
       "2020-01-24    0.003080\n",
       "2020-01-25    0.001750\n",
       "2020-01-26    0.003080\n",
       "2020-01-27    0.005090\n",
       "2020-01-28    0.006400\n",
       "2020-01-29    0.005765\n",
       "2020-01-30    0.005990\n",
       "2020-01-31    0.005605\n",
       "2020-02-01    0.005410\n",
       "2020-02-02    0.005900\n",
       "2020-02-03    0.005480\n",
       "2020-02-04    0.003500\n",
       "2020-02-05    0.003050\n",
       "2020-02-06    0.002675\n",
       "2020-02-07    0.002490\n",
       "2020-02-08    0.002865\n",
       "2020-02-09    0.002660\n",
       "2020-02-10    0.003110\n",
       "2020-02-11    0.002365\n",
       "2020-02-12    0.001780\n",
       "2020-02-13    0.001620\n",
       "2020-02-14    0.001560\n",
       "2020-02-15    0.001460\n",
       "Name: index, dtype: float64"
      ]
     },
     "execution_count": 27,
     "metadata": {},
     "output_type": "execute_result"
    }
   ],
   "source": [
    "inbj.groupby(['date']).median()['index']\n"
   ]
  },
  {
   "cell_type": "code",
   "execution_count": null,
   "metadata": {},
   "outputs": [],
   "source": []
  }
 ],
 "metadata": {
  "kernelspec": {
   "display_name": "Python 3.7.7 64-bit ('base': conda)",
   "language": "python",
   "name": "python37764bitbasecondaf475587bc1de4035baa9301b6d40e2a0"
  },
  "language_info": {
   "codemirror_mode": {
    "name": "ipython",
    "version": 3
   },
   "file_extension": ".py",
   "mimetype": "text/x-python",
   "name": "python",
   "nbconvert_exporter": "python",
   "pygments_lexer": "ipython3",
   "version": "3.7.7-final"
  }
 },
 "nbformat": 4,
 "nbformat_minor": 2
}