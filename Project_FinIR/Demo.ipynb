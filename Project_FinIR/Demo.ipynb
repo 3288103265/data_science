{
 "cells": [
  {
   "cell_type": "markdown",
   "metadata": {},
   "source": [
    "Demo for the competition data"
   ]
  },
  {
   "cell_type": "code",
   "execution_count": 1,
   "metadata": {},
   "outputs": [],
   "source": [
    "import pandas as pd"
   ]
  },
  {
   "cell_type": "markdown",
   "metadata": {},
   "source": [
    "# total data"
   ]
  },
  {
   "cell_type": "markdown",
   "metadata": {},
   "source": [
    "path: './original_report_and_news/'"
   ]
  },
  {
   "cell_type": "markdown",
   "metadata": {},
   "source": [
    "# all file contain the following columns:\n",
    "url:the url of the record<br>\n",
    "title: the title of the analyst report or the news<br>\n",
    "date: the pubilished date of the analyst report or the news<br>\n",
    "source: the source of the analyst report or the news<br>\n",
    "content: the content of the analyst report or the news<br>"
   ]
  },
  {
   "cell_type": "code",
   "execution_count": 2,
   "metadata": {},
   "outputs": [],
   "source": [
    "chinese_analyst_report = pd.read_csv('./original_report_and_news/chinese_analyst_report.csv')"
   ]
  },
  {
   "cell_type": "code",
   "execution_count": 3,
   "metadata": {},
   "outputs": [],
   "source": [
    "chinese_news = pd.read_csv('./original_report_and_news/chinese_news.csv')"
   ]
  },
  {
   "cell_type": "code",
   "execution_count": 4,
   "metadata": {},
   "outputs": [],
   "source": [
    "english_analyst_report = pd.read_csv('./original_report_and_news/english_analyst_report.csv')"
   ]
  },
  {
   "cell_type": "code",
   "execution_count": 5,
   "metadata": {},
   "outputs": [],
   "source": [
    "english_news = pd.read_csv('./original_report_and_news/english_news.csv')"
   ]
  },
  {
   "cell_type": "code",
   "execution_count": 6,
   "metadata": {},
   "outputs": [
    {
     "data": {
      "text/html": [
       "<div>\n",
       "<style scoped>\n",
       "    .dataframe tbody tr th:only-of-type {\n",
       "        vertical-align: middle;\n",
       "    }\n",
       "\n",
       "    .dataframe tbody tr th {\n",
       "        vertical-align: top;\n",
       "    }\n",
       "\n",
       "    .dataframe thead th {\n",
       "        text-align: right;\n",
       "    }\n",
       "</style>\n",
       "<table border=\"1\" class=\"dataframe\">\n",
       "  <thead>\n",
       "    <tr style=\"text-align: right;\">\n",
       "      <th></th>\n",
       "      <th>url</th>\n",
       "      <th>title</th>\n",
       "      <th>date</th>\n",
       "      <th>source</th>\n",
       "      <th>content</th>\n",
       "    </tr>\n",
       "  </thead>\n",
       "  <tbody>\n",
       "    <tr>\n",
       "      <td>0</td>\n",
       "      <td>http://www.bhfcc.com/research-deta_Id_1043.html</td>\n",
       "      <td>0605有色金属早盘提示</td>\n",
       "      <td>2018-06-05</td>\n",
       "      <td>Copper-渤海-Morning</td>\n",
       "      <td>2.金属市场，伦铜上涨，伦铜上涨，投资者关注必和必拓矿场的薪资谈判</td>\n",
       "    </tr>\n",
       "    <tr>\n",
       "      <td>1</td>\n",
       "      <td>http://www.bhfcc.com/research-deta_Id_1053.html</td>\n",
       "      <td>0606有色金属早盘提示</td>\n",
       "      <td>2018-06-06</td>\n",
       "      <td>Copper-渤海-Morning</td>\n",
       "      <td>中期趋势:有色整体趋势看多，短期强弱排列为铅镍铜锌铝，操作上短线思路或视品种强弱对冲交易</td>\n",
       "    </tr>\n",
       "    <tr>\n",
       "      <td>2</td>\n",
       "      <td>http://www.bhfcc.com/research-deta_Id_1080.html</td>\n",
       "      <td>0611有色金属早盘提示</td>\n",
       "      <td>2018-06-11</td>\n",
       "      <td>Copper-渤海-Morning</td>\n",
       "      <td>CFTC报告显示，截至6月5日当周，投机者所持COMEX铜期货和期权净多头头寸增加18,88...</td>\n",
       "    </tr>\n",
       "    <tr>\n",
       "      <td>3</td>\n",
       "      <td>http://www.bhfcc.com/research-deta_Id_1220.html</td>\n",
       "      <td>0702有色金属早盘提示</td>\n",
       "      <td>2018-07-02</td>\n",
       "      <td>Copper-渤海-Morning</td>\n",
       "      <td>CFTC报告显示，至6月26日当周，投机者所持COMEX铜期货和期权净多头头寸减少29,24...</td>\n",
       "    </tr>\n",
       "    <tr>\n",
       "      <td>4</td>\n",
       "      <td>http://www.bhfcc.com/research-deta_Id_1348.html</td>\n",
       "      <td>0720有色金属早盘提示</td>\n",
       "      <td>2018-07-20</td>\n",
       "      <td>Copper-渤海-Morning</td>\n",
       "      <td>1.金属市场，伦铜下跌，需求面存疑之际基金加速抛售，美元强势也施压铜价</td>\n",
       "    </tr>\n",
       "  </tbody>\n",
       "</table>\n",
       "</div>"
      ],
      "text/plain": [
       "                                               url         title        date  \\\n",
       "0  http://www.bhfcc.com/research-deta_Id_1043.html  0605有色金属早盘提示  2018-06-05   \n",
       "1  http://www.bhfcc.com/research-deta_Id_1053.html  0606有色金属早盘提示  2018-06-06   \n",
       "2  http://www.bhfcc.com/research-deta_Id_1080.html  0611有色金属早盘提示  2018-06-11   \n",
       "3  http://www.bhfcc.com/research-deta_Id_1220.html  0702有色金属早盘提示  2018-07-02   \n",
       "4  http://www.bhfcc.com/research-deta_Id_1348.html  0720有色金属早盘提示  2018-07-20   \n",
       "\n",
       "              source                                            content  \n",
       "0  Copper-渤海-Morning                  2.金属市场，伦铜上涨，伦铜上涨，投资者关注必和必拓矿场的薪资谈判  \n",
       "1  Copper-渤海-Morning       中期趋势:有色整体趋势看多，短期强弱排列为铅镍铜锌铝，操作上短线思路或视品种强弱对冲交易  \n",
       "2  Copper-渤海-Morning  CFTC报告显示，截至6月5日当周，投机者所持COMEX铜期货和期权净多头头寸增加18,88...  \n",
       "3  Copper-渤海-Morning  CFTC报告显示，至6月26日当周，投机者所持COMEX铜期货和期权净多头头寸减少29,24...  \n",
       "4  Copper-渤海-Morning                1.金属市场，伦铜下跌，需求面存疑之际基金加速抛售，美元强势也施压铜价  "
      ]
     },
     "execution_count": 6,
     "metadata": {},
     "output_type": "execute_result"
    }
   ],
   "source": [
    "chinese_analyst_report.head()"
   ]
  },
  {
   "cell_type": "code",
   "execution_count": 7,
   "metadata": {},
   "outputs": [
    {
     "data": {
      "text/html": [
       "<div>\n",
       "<style scoped>\n",
       "    .dataframe tbody tr th:only-of-type {\n",
       "        vertical-align: middle;\n",
       "    }\n",
       "\n",
       "    .dataframe tbody tr th {\n",
       "        vertical-align: top;\n",
       "    }\n",
       "\n",
       "    .dataframe thead th {\n",
       "        text-align: right;\n",
       "    }\n",
       "</style>\n",
       "<table border=\"1\" class=\"dataframe\">\n",
       "  <thead>\n",
       "    <tr style=\"text-align: right;\">\n",
       "      <th></th>\n",
       "      <th>url</th>\n",
       "      <th>title</th>\n",
       "      <th>date</th>\n",
       "      <th>source</th>\n",
       "      <th>content</th>\n",
       "    </tr>\n",
       "  </thead>\n",
       "  <tbody>\n",
       "    <tr>\n",
       "      <td>0</td>\n",
       "      <td>http://futures.jrj.com.cn/2013/01/011440148921...</td>\n",
       "      <td>“财政悬崖”协议促国际油价上涨</td>\n",
       "      <td>2013-01-01 14:40:37</td>\n",
       "      <td>http://forex.jrj.com.cn</td>\n",
       "      <td>由于投资者预期美国国会可能很快就“财政悬崖”达成协议，国际油价31日上涨，但纽约油价全年...</td>\n",
       "    </tr>\n",
       "    <tr>\n",
       "      <td>1</td>\n",
       "      <td>http://futures.jrj.com.cn/2013/01/011443148921...</td>\n",
       "      <td>2012全球大宗市场宽幅振荡 供过于求或将延续</td>\n",
       "      <td>2013-01-01 14:43:04</td>\n",
       "      <td>http://forex.jrj.com.cn</td>\n",
       "      <td>2012年，欧美日等发达经济体复苏乏力，争相开闸放水，特别是美联储QE3之后，大宗商品市...</td>\n",
       "    </tr>\n",
       "    <tr>\n",
       "      <td>2</td>\n",
       "      <td>http://futures.jrj.com.cn/2013/01/020907148924...</td>\n",
       "      <td>亚洲燃料油1月裂解价差疲弱，因前景偏空</td>\n",
       "      <td>2013-01-02 09:07:05</td>\n",
       "      <td>http://forex.jrj.com.cn</td>\n",
       "      <td>文华财经（编辑整理 王欣）--据新加坡12月31日消息，亚洲燃料油裂解价差未来12个月合...</td>\n",
       "    </tr>\n",
       "    <tr>\n",
       "      <td>3</td>\n",
       "      <td>http://futures.jrj.com.cn/2013/01/020907148924...</td>\n",
       "      <td>NYMEX原油期货电子盘小幅跌向91美元 关注美国财政谈判</td>\n",
       "      <td>2013-01-02 09:07:23</td>\n",
       "      <td>http://forex.jrj.com.cn</td>\n",
       "      <td>文华财经（编辑整理 任丽）--据新加坡1月2日消息，美国原油期货周三朝91美元小幅下滑，...</td>\n",
       "    </tr>\n",
       "    <tr>\n",
       "      <td>4</td>\n",
       "      <td>http://futures.jrj.com.cn/2013/01/020907148924...</td>\n",
       "      <td>2012年大豆先扬后抑 重心下移</td>\n",
       "      <td>2013-01-02 09:07:50</td>\n",
       "      <td>http://forex.jrj.com.cn</td>\n",
       "      <td>今年大豆大致运行轨迹可以描绘为：先扬后抑，重心比2012年下半年有所下移，整体属于牛市终...</td>\n",
       "    </tr>\n",
       "  </tbody>\n",
       "</table>\n",
       "</div>"
      ],
      "text/plain": [
       "                                                 url  \\\n",
       "0  http://futures.jrj.com.cn/2013/01/011440148921...   \n",
       "1  http://futures.jrj.com.cn/2013/01/011443148921...   \n",
       "2  http://futures.jrj.com.cn/2013/01/020907148924...   \n",
       "3  http://futures.jrj.com.cn/2013/01/020907148924...   \n",
       "4  http://futures.jrj.com.cn/2013/01/020907148924...   \n",
       "\n",
       "                           title                 date  \\\n",
       "0                “财政悬崖”协议促国际油价上涨  2013-01-01 14:40:37   \n",
       "1        2012全球大宗市场宽幅振荡 供过于求或将延续  2013-01-01 14:43:04   \n",
       "2            亚洲燃料油1月裂解价差疲弱，因前景偏空  2013-01-02 09:07:05   \n",
       "3  NYMEX原油期货电子盘小幅跌向91美元 关注美国财政谈判  2013-01-02 09:07:23   \n",
       "4               2012年大豆先扬后抑 重心下移  2013-01-02 09:07:50   \n",
       "\n",
       "                    source                                            content  \n",
       "0  http://forex.jrj.com.cn  　　由于投资者预期美国国会可能很快就“财政悬崖”达成协议，国际油价31日上涨，但纽约油价全年...  \n",
       "1  http://forex.jrj.com.cn  　　2012年，欧美日等发达经济体复苏乏力，争相开闸放水，特别是美联储QE3之后，大宗商品市...  \n",
       "2  http://forex.jrj.com.cn  　　文华财经（编辑整理 王欣）--据新加坡12月31日消息，亚洲燃料油裂解价差未来12个月合...  \n",
       "3  http://forex.jrj.com.cn  　　文华财经（编辑整理 任丽）--据新加坡1月2日消息，美国原油期货周三朝91美元小幅下滑，...  \n",
       "4  http://forex.jrj.com.cn  　　今年大豆大致运行轨迹可以描绘为：先扬后抑，重心比2012年下半年有所下移，整体属于牛市终...  "
      ]
     },
     "execution_count": 7,
     "metadata": {},
     "output_type": "execute_result"
    }
   ],
   "source": [
    "chinese_news.head()"
   ]
  },
  {
   "cell_type": "code",
   "execution_count": 8,
   "metadata": {},
   "outputs": [
    {
     "data": {
      "text/html": [
       "<div>\n",
       "<style scoped>\n",
       "    .dataframe tbody tr th:only-of-type {\n",
       "        vertical-align: middle;\n",
       "    }\n",
       "\n",
       "    .dataframe tbody tr th {\n",
       "        vertical-align: top;\n",
       "    }\n",
       "\n",
       "    .dataframe thead th {\n",
       "        text-align: right;\n",
       "    }\n",
       "</style>\n",
       "<table border=\"1\" class=\"dataframe\">\n",
       "  <thead>\n",
       "    <tr style=\"text-align: right;\">\n",
       "      <th></th>\n",
       "      <th>url</th>\n",
       "      <th>title</th>\n",
       "      <th>date</th>\n",
       "      <th>source</th>\n",
       "      <th>content</th>\n",
       "    </tr>\n",
       "  </thead>\n",
       "  <tbody>\n",
       "    <tr>\n",
       "      <td>0</td>\n",
       "      <td>https://www.economies.com/commodities/copper-a...</td>\n",
       "      <td>cooper-achieve-some-gains-23-06-2014-11197</td>\n",
       "      <td>2014-06-23</td>\n",
       "      <td>https://www.economies.com</td>\n",
       "      <td>Cooper price gained its positivity form breaki...</td>\n",
       "    </tr>\n",
       "    <tr>\n",
       "      <td>1</td>\n",
       "      <td>https://www.economies.com/commodities/copper-a...</td>\n",
       "      <td>cooper-achieves-gains-8-82013-4566</td>\n",
       "      <td>2013-08-08</td>\n",
       "      <td>https://www.economies.com</td>\n",
       "      <td>Copper breached the previous resistance level ...</td>\n",
       "    </tr>\n",
       "    <tr>\n",
       "      <td>2</td>\n",
       "      <td>https://www.economies.com/commodities/copper-a...</td>\n",
       "      <td>cooper-and-some-losses-10-6-2013-3566</td>\n",
       "      <td>2013-06-10</td>\n",
       "      <td>https://www.economies.com</td>\n",
       "      <td>The resistance level proved its strength again...</td>\n",
       "    </tr>\n",
       "    <tr>\n",
       "      <td>3</td>\n",
       "      <td>https://www.economies.com/commodities/copper-a...</td>\n",
       "      <td>cooper-around-the-initial-support-2-10-2013-5468</td>\n",
       "      <td>2013-10-02</td>\n",
       "      <td>https://www.economies.com</td>\n",
       "      <td>Cooper returns to settle around the initial su...</td>\n",
       "    </tr>\n",
       "    <tr>\n",
       "      <td>4</td>\n",
       "      <td>https://www.economies.com/commodities/copper-a...</td>\n",
       "      <td>cooper-attempts-to-settle-positively-13-2-2014...</td>\n",
       "      <td>2014-02-13</td>\n",
       "      <td>https://www.economies.com</td>\n",
       "      <td>Copper attempted to gain bullish momentum yest...</td>\n",
       "    </tr>\n",
       "  </tbody>\n",
       "</table>\n",
       "</div>"
      ],
      "text/plain": [
       "                                                 url  \\\n",
       "0  https://www.economies.com/commodities/copper-a...   \n",
       "1  https://www.economies.com/commodities/copper-a...   \n",
       "2  https://www.economies.com/commodities/copper-a...   \n",
       "3  https://www.economies.com/commodities/copper-a...   \n",
       "4  https://www.economies.com/commodities/copper-a...   \n",
       "\n",
       "                                               title        date  \\\n",
       "0         cooper-achieve-some-gains-23-06-2014-11197  2014-06-23   \n",
       "1                 cooper-achieves-gains-8-82013-4566  2013-08-08   \n",
       "2              cooper-and-some-losses-10-6-2013-3566  2013-06-10   \n",
       "3   cooper-around-the-initial-support-2-10-2013-5468  2013-10-02   \n",
       "4  cooper-attempts-to-settle-positively-13-2-2014...  2014-02-13   \n",
       "\n",
       "                      source  \\\n",
       "0  https://www.economies.com   \n",
       "1  https://www.economies.com   \n",
       "2  https://www.economies.com   \n",
       "3  https://www.economies.com   \n",
       "4  https://www.economies.com   \n",
       "\n",
       "                                             content  \n",
       "0  Cooper price gained its positivity form breaki...  \n",
       "1  Copper breached the previous resistance level ...  \n",
       "2  The resistance level proved its strength again...  \n",
       "3  Cooper returns to settle around the initial su...  \n",
       "4  Copper attempted to gain bullish momentum yest...  "
      ]
     },
     "execution_count": 8,
     "metadata": {},
     "output_type": "execute_result"
    }
   ],
   "source": [
    "english_analyst_report.head()"
   ]
  },
  {
   "cell_type": "code",
   "execution_count": 9,
   "metadata": {},
   "outputs": [
    {
     "data": {
      "text/html": [
       "<div>\n",
       "<style scoped>\n",
       "    .dataframe tbody tr th:only-of-type {\n",
       "        vertical-align: middle;\n",
       "    }\n",
       "\n",
       "    .dataframe tbody tr th {\n",
       "        vertical-align: top;\n",
       "    }\n",
       "\n",
       "    .dataframe thead th {\n",
       "        text-align: right;\n",
       "    }\n",
       "</style>\n",
       "<table border=\"1\" class=\"dataframe\">\n",
       "  <thead>\n",
       "    <tr style=\"text-align: right;\">\n",
       "      <th></th>\n",
       "      <th>url</th>\n",
       "      <th>title</th>\n",
       "      <th>date</th>\n",
       "      <th>source</th>\n",
       "      <th>content</th>\n",
       "    </tr>\n",
       "  </thead>\n",
       "  <tbody>\n",
       "    <tr>\n",
       "      <td>0</td>\n",
       "      <td>https://www.mining.com/gold-silver-investing-l...</td>\n",
       "      <td>Gold, silver investing legend Eric Sprott on j...</td>\n",
       "      <td>2019-07-30</td>\n",
       "      <td>Mining.com - General</td>\n",
       "      <td>The gold price has now been camped out above $...</td>\n",
       "    </tr>\n",
       "    <tr>\n",
       "      <td>1</td>\n",
       "      <td>https://www.mining.com/web/alumina-roller-coas...</td>\n",
       "      <td>Alumina roller coaster spins price to two-year...</td>\n",
       "      <td>2019-07-30</td>\n",
       "      <td>Mining.com - General</td>\n",
       "      <td>The alumina market has collapsed over the last...</td>\n",
       "    </tr>\n",
       "    <tr>\n",
       "      <td>2</td>\n",
       "      <td>https://www.mining.com/web/china-iron-ore-hits...</td>\n",
       "      <td>China iron ore hits 2-week high as tight suppl...</td>\n",
       "      <td>2019-07-30</td>\n",
       "      <td>Mining.com - General</td>\n",
       "      <td>Chinese iron ore futures rose more than 3% on ...</td>\n",
       "    </tr>\n",
       "    <tr>\n",
       "      <td>3</td>\n",
       "      <td>https://www.mining.com/web/watch-these-key-lev...</td>\n",
       "      <td>Watch these key levels in precious metals</td>\n",
       "      <td>2019-07-29</td>\n",
       "      <td>Mining.com - General</td>\n",
       "      <td>The precious metals sector appears to have sta...</td>\n",
       "    </tr>\n",
       "    <tr>\n",
       "      <td>4</td>\n",
       "      <td>https://www.mining.com/web/goldman-says-brewin...</td>\n",
       "      <td>Goldman says ‘brewing’ bottleneck dims copper ...</td>\n",
       "      <td>2019-07-29</td>\n",
       "      <td>Mining.com - Copper</td>\n",
       "      <td>China’s “brewing” copper smelter bottleneck si...</td>\n",
       "    </tr>\n",
       "  </tbody>\n",
       "</table>\n",
       "</div>"
      ],
      "text/plain": [
       "                                                 url  \\\n",
       "0  https://www.mining.com/gold-silver-investing-l...   \n",
       "1  https://www.mining.com/web/alumina-roller-coas...   \n",
       "2  https://www.mining.com/web/china-iron-ore-hits...   \n",
       "3  https://www.mining.com/web/watch-these-key-lev...   \n",
       "4  https://www.mining.com/web/goldman-says-brewin...   \n",
       "\n",
       "                                               title        date  \\\n",
       "0  Gold, silver investing legend Eric Sprott on j...  2019-07-30   \n",
       "1  Alumina roller coaster spins price to two-year...  2019-07-30   \n",
       "2  China iron ore hits 2-week high as tight suppl...  2019-07-30   \n",
       "3          Watch these key levels in precious metals  2019-07-29   \n",
       "4  Goldman says ‘brewing’ bottleneck dims copper ...  2019-07-29   \n",
       "\n",
       "                 source                                            content  \n",
       "0  Mining.com - General  The gold price has now been camped out above $...  \n",
       "1  Mining.com - General  The alumina market has collapsed over the last...  \n",
       "2  Mining.com - General  Chinese iron ore futures rose more than 3% on ...  \n",
       "3  Mining.com - General  The precious metals sector appears to have sta...  \n",
       "4   Mining.com - Copper  China’s “brewing” copper smelter bottleneck si...  "
      ]
     },
     "execution_count": 9,
     "metadata": {},
     "output_type": "execute_result"
    }
   ],
   "source": [
    "english_news.head()"
   ]
  },
  {
   "cell_type": "markdown",
   "metadata": {},
   "source": [
    "# The preprocess report and news folder is allocated into different metal, no difference compared with above four files<br>\n",
    "path:'./original_report_and_news/'"
   ]
  },
  {
   "cell_type": "code",
   "execution_count": null,
   "metadata": {},
   "outputs": [],
   "source": []
  }
 ],
 "metadata": {
  "kernelspec": {
   "display_name": "Python 3",
   "language": "python",
   "name": "python3"
  },
  "language_info": {
   "codemirror_mode": {
    "name": "ipython",
    "version": 3
   },
   "file_extension": ".py",
   "mimetype": "text/x-python",
   "name": "python",
   "nbconvert_exporter": "python",
   "pygments_lexer": "ipython3",
   "version": "3.7.4"
  }
 },
 "nbformat": 4,
 "nbformat_minor": 2
}
